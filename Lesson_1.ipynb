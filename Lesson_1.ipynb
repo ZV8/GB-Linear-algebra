{
  "nbformat": 4,
  "nbformat_minor": 0,
  "metadata": {
    "colab": {
      "name": "Lesson_1.ipynb",
      "provenance": [],
      "authorship_tag": "ABX9TyOdzc/fIk4rxt0B0prnzzxW"
    },
    "kernelspec": {
      "name": "python3",
      "display_name": "Python 3"
    },
    "language_info": {
      "name": "python"
    }
  },
  "cells": [
    {
      "cell_type": "markdown",
      "metadata": {
        "id": "4OvS9PI0wdnw"
      },
      "source": [
        "### Практическое задание Часть 1"
      ]
    },
    {
      "cell_type": "markdown",
      "metadata": {
        "id": "P02riBXqwo9i"
      },
      "source": [
        "#### __1.__ Исследовать на линейную зависимость:\n",
        "\n",
        "$$f_{1}(x)=e^{x}, f_{2}(x)=1, f_{3}(x)=x+1, f_{4}(x)=x-e^{x}.$$"
      ]
    },
    {
      "cell_type": "markdown",
      "metadata": {
        "id": "M3RCEVm94kRa"
      },
      "source": [
        "__Решение__\n",
        " \n",
        "Заметим, что $f_{4}(x)=f_{3}(x) - f_{2}(x) -f_{1}(x)$. \n",
        "\n",
        "То есть вектор $f_{4}(x)$ — линейная комбинация векторов $f_{1}(x), f_{2}(x)$ и $f_{3}(x)$, из чего можно сделать вывод, что $f_{1}(x)=e^{x}, f_{2}(x)=1, f_{3}(x)=x+1, f_{4}(x)=x-e^{x}$ линейно зависимы.\n"
      ]
    },
    {
      "cell_type": "markdown",
      "metadata": {
        "id": "48i0N3vM6DcE"
      },
      "source": [
        "#### __2.__ Исследовать на линейную зависимость:\n",
        "$$f_{1}(x)=2, f_{2}(x)=x, f_{3}(x)=x^{2}, f_{4}(x)=(x+1)^{2}$$"
      ]
    },
    {
      "cell_type": "markdown",
      "metadata": {
        "id": "Lhh6bKJv7dgc"
      },
      "source": [
        "__Решение__\n",
        "\n",
        "$f_{4}(x)=(x+1)^{2} = x^{2} + 2x + 1 = f_{3}(x) + f_{1}(x)f_{2}(x) + 1$\n",
        "\n",
        "То есть вектор $f_{4}(x)$ — линейная комбинация векторов $f_{1}(x), f_{2}(x)$ и $f_{3}(x)$, из чего можно сделать вывод, что $f_{1}(x)=2, f_{2}(x)=x, f_{3}(x)=x^{2}, f_{4}(x)=(x+1)^{2}$ линейно зависимы.\n",
        "\n"
      ]
    },
    {
      "cell_type": "markdown",
      "metadata": {
        "id": "ULcvZic18oGH"
      },
      "source": [
        "#### __3.__ Найти координаты вектора $x = (2, 3, 5)\\in \\mathbb{R}^{3}$ в базисе $b_{1}=(0, 0, 10)$, $b_{2}=(2, 0, 0)$, $b_{3}=(0, 1, 0)$."
      ]
    },
    {
      "cell_type": "markdown",
      "metadata": {
        "id": "MuWtODXB_JNa"
      },
      "source": [
        "__Решение__\n",
        "\n",
        "$x=(2, 3, 5)=(2,0,0)+(0, 3, 0)+(0, 0, 5)=\\frac{1}{2}\\cdot(0, 0, 10) + 1\\cdot(2, 0, 0)+3\\cdot(0, 1, 0)=\\frac{1}{2}b_{1}+b_{2}+3b_{3}$\n",
        "\n",
        "то есть координатами вектора $x$ в базисе $b_{1}=(0, 0, 10)$, $b_{2}=(2, 0, 0)$, $b_{3}=(0, 1, 0)$ являются $\\frac{1}{2}$, $1$, $3$."
      ]
    },
    {
      "cell_type": "markdown",
      "metadata": {
        "id": "tbKAsRGzQ4GK"
      },
      "source": [
        "#### __4.__ Найти координаты вектора $3x^{2}-2x+2\\in\\mathbb{R}^{3}[x]$:\n",
        "\n",
        "а) в базисе $1$, $x$, $x^{2}$;\n",
        "\n",
        "б) в базисе $x^{2}$, $x-1$, $1$."
      ]
    },
    {
      "cell_type": "markdown",
      "metadata": {
        "id": "4Caa1gefHrJu"
      },
      "source": [
        "__Решение__\n",
        "\n",
        "а) Координаты вектора $3x^{2}-2x+2\\in\\mathbb{R}^{3}[x]$ в базисе $1$, $x$, $x^{2}$ равны:  $(2, -2, 3)$"
      ]
    },
    {
      "cell_type": "markdown",
      "metadata": {
        "id": "89G4xau9Ju63"
      },
      "source": [
        "б) Координаты вектора $3x^{2}-2x+2\\in\\mathbb{R}^{3}[x]$ в базисе $x^{2}$, $x-1$, $1$ равны:  $(3, -2, 0)$"
      ]
    },
    {
      "cell_type": "markdown",
      "metadata": {
        "id": "b32NO1y0MZt_"
      },
      "source": [
        ""
      ]
    },
    {
      "cell_type": "markdown",
      "metadata": {
        "id": "DA7eUv__vCIa"
      },
      "source": [
        "### Практическое задание Часть 2"
      ]
    },
    {
      "cell_type": "markdown",
      "metadata": {
        "id": "piuDyBBNMZcS"
      },
      "source": [
        "#### __1.__ Найти скалярное произведение векторов $x, y \\in \\mathbb{R}$:<br>\n",
        "а) $x=(0,-3, 6),~y=(-4, 7, 9);$<br>\n",
        "б) $x=(7, -4, 0, 1),~y=(-3, 1, 11, 2).$"
      ]
    },
    {
      "cell_type": "markdown",
      "metadata": {
        "id": "ATzc6u9Ou3T8"
      },
      "source": [
        "__Решение__"
      ]
    },
    {
      "cell_type": "code",
      "metadata": {
        "colab": {
          "base_uri": "https://localhost:8080/"
        },
        "id": "SAFDgGq5vNzN",
        "outputId": "edf7efcb-85f9-4312-ff1b-8a64e433d051"
      },
      "source": [
        "import numpy as np\n",
        "\n",
        "x = np.array([0,-3,6])\n",
        "y = np.array([-4,7,9])\n",
        "\n",
        "s = (0*-4)+(-3*7)+(6*9)\n",
        "print(f'Скалярное произведение 𝑥=(0,−3,6), 𝑦=(−4,7,9) равно {s}')\n",
        "print(f'Проверка: {s == x @ y}')"
      ],
      "execution_count": 1,
      "outputs": [
        {
          "output_type": "stream",
          "text": [
            "Скалярное произведение 𝑥=(0,−3,6), 𝑦=(−4,7,9) равно 33\n",
            "Проверка: True\n"
          ],
          "name": "stdout"
        }
      ]
    },
    {
      "cell_type": "code",
      "metadata": {
        "colab": {
          "base_uri": "https://localhost:8080/"
        },
        "id": "r00tIlLWwfBu",
        "outputId": "8c681a73-8883-466a-add1-651ac0d85e05"
      },
      "source": [
        "x = np.array([7,-4,0,1])\n",
        "y = np.array([-3,1,11,2])\n",
        "\n",
        "s = (7*-3)+(-4*1)+(0*11)+(1*2)\n",
        "print(f'Скалярное произведение 𝑥=(7,−4,0,1), 𝑦=(−3,1,11,2) равно {s}')\n",
        "print(f'Проверка: {s == x @ y}')"
      ],
      "execution_count": 2,
      "outputs": [
        {
          "output_type": "stream",
          "text": [
            "Скалярное произведение 𝑥=(7,−4,0,1), 𝑦=(−3,1,11,2) равно -23\n",
            "Проверка: True\n"
          ],
          "name": "stdout"
        }
      ]
    },
    {
      "cell_type": "markdown",
      "metadata": {
        "id": "bC-nO33aPZfi"
      },
      "source": [
        "#### __2.__ Найти нормы векторов $(4, 2, 4)$ и $(12, 3, 4)$ и угол между ними."
      ]
    },
    {
      "cell_type": "code",
      "metadata": {
        "id": "fN9_CpiYOobO"
      },
      "source": [
        "from numpy.linalg import norm"
      ],
      "execution_count": 3,
      "outputs": []
    },
    {
      "cell_type": "code",
      "metadata": {
        "id": "IouvnuaZdVrI"
      },
      "source": [
        "a = np.array([4,2,4])\n",
        "b = np.array([12,3,4])"
      ],
      "execution_count": 4,
      "outputs": []
    },
    {
      "cell_type": "markdown",
      "metadata": {
        "id": "b7e-LgpKu0Kz"
      },
      "source": [
        "__Решение__"
      ]
    },
    {
      "cell_type": "markdown",
      "metadata": {
        "id": "Y3N3INrzdfjl"
      },
      "source": [
        "Определим манхэттенскую норму вектора $a$:\n",
        "\n",
        "$$\\left\\|x\\right\\|_{1} = |4|+|2|+|4|=10$$"
      ]
    },
    {
      "cell_type": "code",
      "metadata": {
        "colab": {
          "base_uri": "https://localhost:8080/"
        },
        "id": "RorWpd9vd5XO",
        "outputId": "0bfbaed8-e616-47ab-b133-c7c9a48ae369"
      },
      "source": [
        "print(f'Манхетовская норма вектора a:\\n{norm(a, ord=1)}')"
      ],
      "execution_count": 5,
      "outputs": [
        {
          "output_type": "stream",
          "text": [
            "Манхетовская норма вектора a:\n",
            "10.0\n"
          ],
          "name": "stdout"
        }
      ]
    },
    {
      "cell_type": "markdown",
      "metadata": {
        "id": "VFD00_R4duNG"
      },
      "source": [
        "Определим манхэттенскую норму вектора $b$:\n",
        "\n",
        "$$\\left\\|x\\right\\|_{1} = |12|+|3|+|4|=19$$"
      ]
    },
    {
      "cell_type": "code",
      "metadata": {
        "colab": {
          "base_uri": "https://localhost:8080/"
        },
        "id": "YhZ12uqwdq9r",
        "outputId": "9505fe45-71bb-4c7b-ccc7-85eaa594cb41"
      },
      "source": [
        "print(f'Манхетовская норма вектора b:\\n{norm(b, ord=1)}')"
      ],
      "execution_count": 6,
      "outputs": [
        {
          "output_type": "stream",
          "text": [
            "Манхетовская норма вектора b:\n",
            "19.0\n"
          ],
          "name": "stdout"
        }
      ]
    },
    {
      "cell_type": "markdown",
      "metadata": {
        "id": "ynoVrl9beOJs"
      },
      "source": [
        "Определим евклидову норму вектора $a$:\n",
        "\n",
        "$$\\left\\|x\\right\\|_{2} = \\sqrt{4^{2}+2^{2}+4^{2}}=\\sqrt{36}=6$$"
      ]
    },
    {
      "cell_type": "code",
      "metadata": {
        "colab": {
          "base_uri": "https://localhost:8080/"
        },
        "id": "EcDnuHtPeBEv",
        "outputId": "85964b7a-9cf9-43f6-989f-43af93d69f85"
      },
      "source": [
        "print(f'Евклидова норма вектора а:\\n{norm(a, ord=2)}')"
      ],
      "execution_count": 7,
      "outputs": [
        {
          "output_type": "stream",
          "text": [
            "Евклидова норма вектора а:\n",
            "6.0\n"
          ],
          "name": "stdout"
        }
      ]
    },
    {
      "cell_type": "markdown",
      "metadata": {
        "id": "TO1tgnbDerYC"
      },
      "source": [
        "Определим евклидову норму вектора $b$:\n",
        "\n",
        "$$\\left\\|x\\right\\|_{2} = \\sqrt{12^{2}+3^{2}+4^{2}}=\\sqrt{169}=13$$"
      ]
    },
    {
      "cell_type": "code",
      "metadata": {
        "colab": {
          "base_uri": "https://localhost:8080/"
        },
        "id": "pdVVpMBIepAY",
        "outputId": "07ac9b75-f44e-46f8-b1b5-8e461f1fefae"
      },
      "source": [
        "print(f'Евклидова норма вектора b:\\n{norm(b, ord=2)}')"
      ],
      "execution_count": 8,
      "outputs": [
        {
          "output_type": "stream",
          "text": [
            "Евклидова норма вектора b:\n",
            "13.0\n"
          ],
          "name": "stdout"
        }
      ]
    },
    {
      "cell_type": "markdown",
      "metadata": {
        "id": "2T2a9UjBg-Hu"
      },
      "source": [
        "В любом вещественном евклидовом пространстве можно ввести понятие _угла_ между двумя произвольными элементами $x$ и $y$, косинус которого равен:\n",
        "\n",
        "$$cos\\varphi = \\frac{(x,y)}{\\left \\|x\\right \\|\\cdot\\left \\|y\\right \\|}.$$"
      ]
    },
    {
      "cell_type": "markdown",
      "metadata": {
        "id": "c3Yacdr6fjCD"
      },
      "source": [
        "Определим угол между векторами a и b:\n",
        "\n",
        "$$cos\\varphi = \\frac{4\\cdot12+2\\cdot3+4\\cdot4}{\\sqrt{36}\\sqrt{169}}=\\frac{70}{78}\\approx 0.897$$"
      ]
    },
    {
      "cell_type": "code",
      "metadata": {
        "colab": {
          "base_uri": "https://localhost:8080/"
        },
        "id": "DNgidb5Se8kA",
        "outputId": "6721041b-1680-4f8e-f679-d3d330d5676e"
      },
      "source": [
        "cos_phi = np.dot(a, b) / norm(a) / norm(b)\n",
        "print(f'Косинус угла между a и b: {cos_phi:.2f}')\n",
        "print(f'Угол между a и b: {np.arccos(cos_phi):.2f}')"
      ],
      "execution_count": 10,
      "outputs": [
        {
          "output_type": "stream",
          "text": [
            "Косинус угла между a и b: 0.90\n",
            "Угол между a и b: 0.46\n"
          ],
          "name": "stdout"
        }
      ]
    },
    {
      "cell_type": "markdown",
      "metadata": {
        "id": "U49v5JQmhlsw"
      },
      "source": [
        "#### __3.__ Будет ли линейное пространство евклидовым, если за скалярное произведение принять:<br>\n",
        "а) произведение длин векторов;<br>\n",
        "б) утроенное обычное скалярное произведение векторов?"
      ]
    },
    {
      "cell_type": "markdown",
      "metadata": {
        "id": "ycLj-COFj8I1"
      },
      "source": [
        "Линейное пространство над полем вещественных чисел называется _евклидовым пространством_, если на нем введено правило, согласно которому каждой упорядоченной паре векторов $x$ и $y$ поставлено в соответствие вещественное число, называемое _скалярным произведением_ и обозначаемое символом $(x, y)$.\n",
        "\n",
        "При этом указанное правило должно подчиняться четырем аксиомам:<br>\n",
        "1) $(x,y)=(y,x);$<br>\n",
        "2) $(\\lambda x, y)=\\lambda(x, y);$<br>\n",
        "3) $(x_{1}+x_{2},y)=(x_{1},y)+(x_{2},y);$<br>\n",
        "4) $(x, x)\\geq0$, причем $(x,x)=0\\Leftrightarrow x=0.$\n"
      ]
    },
    {
      "cell_type": "markdown",
      "metadata": {
        "id": "lR43TLXLuIhf"
      },
      "source": [
        "__Решение__\n",
        "\n",
        "а) Нет, так как не выполнится третья аксиома для Евклидова пространства: $(x_{1}+x_{2},y)=(x_{1},y)+(x_{2},y)$<br>\n",
        "\n",
        "Она выполнится, только если $x_{1} \\mbox{ и } x_{2}$ будут коллинеарны. Если же они не коллинеарны, то норма от $x_{1} + x_{2}$ будет меньше, чем нормы от этих векторов по отдельности.\n",
        "\n",
        "Например, х1=(6, 0) и х2=(0, 8), тогда х1+х2=(6, 8). Длина первого вектора 6, второго 8, а вот их суммы 10"
      ]
    },
    {
      "cell_type": "markdown",
      "metadata": {
        "id": "fpwlsST_9rX0"
      },
      "source": [
        "б) Да, так как выполнятся все аксиомы для Евклидова пространства"
      ]
    },
    {
      "cell_type": "markdown",
      "metadata": {
        "id": "eprxYPxangaU"
      },
      "source": [
        "#### __4.__ Какие из нижеперечисленных векторов образуют ортонормированный базис в линейном пространстве $\\mathbb{R}^{3}$:<br>\n",
        "а) $(1,0,0),(0,0,1);$ <br>\n",
        "б) $(1/\\sqrt{2},-1/\\sqrt{2},0),(1/\\sqrt{2},1/\\sqrt{2},0), (0,0,1);$<br>\n",
        "в) $(1/2, -1/2, 0), (0, 1/2, 1/2), (0,0,1);$<br>\n",
        "г) $(1,0,0),(0,1,0),(0,0,1)?$ "
      ]
    },
    {
      "cell_type": "markdown",
      "metadata": {
        "id": "xsjWLa-Gukhw"
      },
      "source": [
        "__Решение__\n",
        "\n",
        "В евклидовом пространстве $E$ элементы $x$ и $y$ называются _ортогональными_, если\n",
        "\n",
        "$$(x,y)=0.$$"
      ]
    },
    {
      "cell_type": "markdown",
      "metadata": {
        "id": "XnKk1O6--bhG"
      },
      "source": [
        "а) Образуют ортонормированный базис в $\\mathbb{R}^{3}$, но не являются базисом $\\mathbb{R}^{3}$"
      ]
    },
    {
      "cell_type": "markdown",
      "metadata": {
        "id": "ojCPHP5D-4vw"
      },
      "source": [
        "б) Образуют ортонормированный базис, так как выполняются условия $(e_{i}, e_{j})=0$ $\\forall$ $i\\neq j$ и $(e_{i},e_{i})=1$ $\\forall$ $i\\in[1, n].$"
      ]
    },
    {
      "cell_type": "code",
      "metadata": {
        "colab": {
          "base_uri": "https://localhost:8080/"
        },
        "id": "grF1pqqw-cR5",
        "outputId": "945ea761-8cb8-40b0-9656-4f85c6821a2e"
      },
      "source": [
        "a = np.array([1/(2)**0.5, -1/(2)**0.5, 0])\n",
        "b = np.array([1/(2)**0.5, 1/(2)**0.5, 0])\n",
        "c = np.array([0, 0, 1])\n",
        "\n",
        "print(f'(a, a)= {a.dot(a):1.0f}')\n",
        "print(f'(b, b)= {b.dot(b):1.0f}')\n",
        "print(f'(c, c)= {c.dot(c):1.0f}')\n",
        "\n",
        "print(f'(a, b)= {a.dot(b):1.0f}')\n",
        "print(f'(a, c)= {a.dot(c):1.0f}')\n",
        "print(f'(c, b)= {c.dot(b):1.0f}')"
      ],
      "execution_count": 11,
      "outputs": [
        {
          "output_type": "stream",
          "text": [
            "(a, a)= 1\n",
            "(b, b)= 1\n",
            "(c, c)= 1\n",
            "(a, b)= -0\n",
            "(a, c)= 0\n",
            "(c, b)= 0\n"
          ],
          "name": "stdout"
        }
      ]
    },
    {
      "cell_type": "markdown",
      "metadata": {
        "id": "WiQnVH3t_X2g"
      },
      "source": [
        "в) Не образуют ортонормированный базис, так как не выполняются условия $(e_{i}, e_{j})=0$ $\\forall$ $i\\neq j$ и $(e_{i},e_{i})=1$ $\\forall$ $i\\in[1, n].$"
      ]
    },
    {
      "cell_type": "code",
      "metadata": {
        "colab": {
          "base_uri": "https://localhost:8080/"
        },
        "id": "Ba0uAeK7--DC",
        "outputId": "00c5f42e-d0ae-44a9-be71-35ab614ed2c9"
      },
      "source": [
        "a = np.array([1/2, -1/2, 0])\n",
        "b = np.array([0, 1/2, 1/2])\n",
        "c = np.array([0, 0, 1])\n",
        "\n",
        "print(f'(a, a)= {a.dot(a)}')\n",
        "print(f'(b, b)= {b.dot(b)}')\n",
        "print(f'(c, c)= {c.dot(c)}')\n",
        "\n",
        "print(f'(a, b)= {a.dot(b)}')\n",
        "print(f'(a, c)= {a.dot(c)}')\n",
        "print(f'(c, b)= {c.dot(b)}')"
      ],
      "execution_count": 12,
      "outputs": [
        {
          "output_type": "stream",
          "text": [
            "(a, a)= 0.5\n",
            "(b, b)= 0.5\n",
            "(c, c)= 1\n",
            "(a, b)= -0.25\n",
            "(a, c)= 0.0\n",
            "(c, b)= 0.5\n"
          ],
          "name": "stdout"
        }
      ]
    },
    {
      "cell_type": "markdown",
      "metadata": {
        "id": "kNliUGpI_jdF"
      },
      "source": [
        "г) Образуют ортонормированный базис, так как выполняются условия $(e_{i}, e_{j})=0$ $\\forall$ $i\\neq j$ и $(e_{i},e_{i})=1$ $\\forall$ $i\\in[1, n].$"
      ]
    },
    {
      "cell_type": "code",
      "metadata": {
        "colab": {
          "base_uri": "https://localhost:8080/"
        },
        "id": "d_MI75vN_eVc",
        "outputId": "be2430da-1b01-48da-93c4-66dcc90d3370"
      },
      "source": [
        "a = np.array([1, 0, 0])\n",
        "b = np.array([0, 1, 0])\n",
        "c = np.array([0, 0, 1])\n",
        "\n",
        "print(f'(a, a)= {a.dot(a)}')\n",
        "print(f'(b, b)= {b.dot(b)}')\n",
        "print(f'(c, c)= {c.dot(c)}')\n",
        "\n",
        "print(f'(a, b)= {a.dot(b)}')\n",
        "print(f'(a, c)= {a.dot(c)}')\n",
        "print(f'(c, b)= {c.dot(b)}')"
      ],
      "execution_count": 13,
      "outputs": [
        {
          "output_type": "stream",
          "text": [
            "(a, a)= 1\n",
            "(b, b)= 1\n",
            "(c, c)= 1\n",
            "(a, b)= 0\n",
            "(a, c)= 0\n",
            "(c, b)= 0\n"
          ],
          "name": "stdout"
        }
      ]
    }
  ]
}