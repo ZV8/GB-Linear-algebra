{
  "nbformat": 4,
  "nbformat_minor": 0,
  "metadata": {
    "colab": {
      "name": "Lesson_1.ipynb",
      "provenance": [],
      "authorship_tag": "ABX9TyNZM5KGnaemR1LbA4XjixEn"
    },
    "kernelspec": {
      "name": "python3",
      "display_name": "Python 3"
    },
    "language_info": {
      "name": "python"
    }
  },
  "cells": [
    {
      "cell_type": "markdown",
      "metadata": {
        "id": "4OvS9PI0wdnw"
      },
      "source": [
        "### Практическое задание Часть 1"
      ]
    },
    {
      "cell_type": "markdown",
      "metadata": {
        "id": "P02riBXqwo9i"
      },
      "source": [
        "#### __1.__ Исследовать на линейную зависимость:\n",
        "\n",
        "$$f_{1}(x)=e^{x}, f_{2}(x)=1, f_{3}(x)=x+1, f_{4}(x)=x-e^{x}.$$"
      ]
    },
    {
      "cell_type": "markdown",
      "metadata": {
        "id": "M3RCEVm94kRa"
      },
      "source": [
        "__Решение__\n",
        " \n",
        "Заметим, что $f_{4}(x)=f_{3}(x) - f_{2}(x) -f_{1}(x)$. \n",
        "\n",
        "То есть вектор $f_{4}(x)$ — линейная комбинация векторов $f_{1}(x), f_{2}(x)$ и $f_{3}(x)$, из чего можно сделать вывод, что $f_{1}(x)=e^{x}, f_{2}(x)=1, f_{3}(x)=x+1, f_{4}(x)=x-e^{x}$ линейно зависимы.\n"
      ]
    },
    {
      "cell_type": "markdown",
      "metadata": {
        "id": "48i0N3vM6DcE"
      },
      "source": [
        "#### __2.__ Исследовать на линейную зависимость:\n",
        "$$f_{1}(x)=2, f_{2}(x)=x, f_{3}(x)=x^{2}, f_{4}(x)=(x+1)^{2}$$"
      ]
    },
    {
      "cell_type": "markdown",
      "metadata": {
        "id": "Lhh6bKJv7dgc"
      },
      "source": [
        "__Решение__\n",
        "\n",
        "$f_{4}(x)=(x+1)^{2} = x^{2} + 2x + 1 = f_{3}(x) + f_{1}(x)f_{2}(x) + 1$\n",
        "\n",
        "То есть вектор $f_{4}(x)$ — линейная комбинация векторов $f_{1}(x), f_{2}(x)$ и $f_{3}(x)$, из чего можно сделать вывод, что $f_{1}(x)=2, f_{2}(x)=x, f_{3}(x)=x^{2}, f_{4}(x)=(x+1)^{2}$ линейно зависимы.\n",
        "\n"
      ]
    },
    {
      "cell_type": "markdown",
      "metadata": {
        "id": "ULcvZic18oGH"
      },
      "source": [
        "#### __3.__ Найти координаты вектора $x = (2, 3, 5)\\in \\mathbb{R}^{3}$ в базисе $b_{1}=(0, 0, 10)$, $b_{2}=(2, 0, 0)$, $b_{3}=(0, 1, 0)$."
      ]
    },
    {
      "cell_type": "markdown",
      "metadata": {
        "id": "MuWtODXB_JNa"
      },
      "source": [
        "__Решение__\n",
        "\n",
        "$x=(2, 3, 5)=(2,0,0)+(0, 3, 0)+(0, 0, 5)=\\frac{1}{2}\\cdot(0, 0, 10) + 1\\cdot(2, 0, 0)+3\\cdot(0, 1, 0)=\\frac{1}{2}b_{1}+b_{2}+3b_{3}$\n",
        "\n",
        "то есть координатами вектора $x$ в базисе $b_{1}=(0, 0, 10)$, $b_{2}=(2, 0, 0)$, $b_{3}=(0, 1, 0)$ являются $\\frac{1}{2}$, $1$, $3$."
      ]
    },
    {
      "cell_type": "markdown",
      "metadata": {
        "id": "tbKAsRGzQ4GK"
      },
      "source": [
        "#### __4.__ Найти координаты вектора $3x^{2}-2x+2\\in\\mathbb{R}^{3}[x]$:\n",
        "\n",
        "а) в базисе $1$, $x$, $x^{2}$;\n",
        "\n",
        "б) в базисе $x^{2}$, $x-1$, $1$."
      ]
    },
    {
      "cell_type": "markdown",
      "metadata": {
        "id": "4Caa1gefHrJu"
      },
      "source": [
        "__Решение__\n",
        "\n",
        "а) $(1, x, x^2)=(1,0,0)+(0, x, 0)+(0, 0, x^2)$\n",
        "\n",
        "$3x^{2}-2x+2 = 3x^2(1,0,0)+(-2)(0, x, 0)+\\frac{2}{x^2}(0, 0, x^2)$\n",
        "\n",
        "то есть координатами вектора $3x^{2}-2x+2\\in\\mathbb{R}^{3}[x]$ в базисе $1$, $x$, $x^{2}$ являются $3x^2, -2, \\frac{2}{x^2}$"
      ]
    },
    {
      "cell_type": "markdown",
      "metadata": {
        "id": "89G4xau9Ju63"
      },
      "source": [
        "б) $(x^2, x-1, 1)=(x^2,0,0)+(0, x-1, 0)+(0, 0, 1)$\n",
        "\n",
        "$3x^{2}-2x+2 = 3(x^2,0,0)+(-\\frac{2x}{x-1})(0, x-1, 0)+2(0, 0, 1)$\n",
        "\n",
        "то есть координатами вектора $3x^{2}-2x+2\\in\\mathbb{R}^{3}[x]$ в базисе $x^{2}$, $x-1$, $1$ являются $3, -\\frac{2x}{x-1}, 2$"
      ]
    },
    {
      "cell_type": "markdown",
      "metadata": {
        "id": "b32NO1y0MZt_"
      },
      "source": [
        ""
      ]
    },
    {
      "cell_type": "markdown",
      "metadata": {
        "id": "DA7eUv__vCIa"
      },
      "source": [
        "### Практическое задание Часть 2"
      ]
    },
    {
      "cell_type": "markdown",
      "metadata": {
        "id": "piuDyBBNMZcS"
      },
      "source": [
        "#### __1.__ Найти скалярное произведение векторов $x, y \\in \\mathbb{R}$:<br>\n",
        "а) $x=(0,-3, 6),~y=(-4, 7, 9);$<br>\n",
        "б) $x=(7, -4, 0, 1),~y=(-3, 1, 11, 2).$"
      ]
    },
    {
      "cell_type": "markdown",
      "metadata": {
        "id": "ATzc6u9Ou3T8"
      },
      "source": [
        "__Решение__"
      ]
    },
    {
      "cell_type": "code",
      "metadata": {
        "colab": {
          "base_uri": "https://localhost:8080/"
        },
        "id": "SAFDgGq5vNzN",
        "outputId": "795afb14-730f-464c-a594-7b0b0431517a"
      },
      "source": [
        "import numpy as np\n",
        "\n",
        "x = np.array([0,-3,6])\n",
        "y = np.array([-4,7,9])\n",
        "\n",
        "s = (0*-4)+(-3*7)+(6*9)\n",
        "print(f'Скалярное произведение 𝑥=(0,−3,6), 𝑦=(−4,7,9) равно {s}')\n",
        "print(f'Проверка: {s == x @ y}')"
      ],
      "execution_count": null,
      "outputs": [
        {
          "output_type": "stream",
          "text": [
            "Скалярное произведение 𝑥=(0,−3,6), 𝑦=(−4,7,9) равно 33\n",
            "Проверка: True\n"
          ],
          "name": "stdout"
        }
      ]
    },
    {
      "cell_type": "code",
      "metadata": {
        "colab": {
          "base_uri": "https://localhost:8080/"
        },
        "id": "r00tIlLWwfBu",
        "outputId": "1ef7b2ed-5d48-4320-d825-601fac6e02c3"
      },
      "source": [
        "x = np.array([7,-4,0,1])\n",
        "y = np.array([-3,1,11,2])\n",
        "\n",
        "s = (7*-3)+(-4*1)+(0*11)+(1*2)\n",
        "print(f'Скалярное произведение 𝑥=(7,−4,0,1), 𝑦=(−3,1,11,2) равно {s}')\n",
        "print(f'Проверка: {s == x @ y}')"
      ],
      "execution_count": null,
      "outputs": [
        {
          "output_type": "stream",
          "text": [
            "Скалярное произведение 𝑥=(7,−4,0,1), 𝑦=(−3,1,11,2) равно -23\n",
            "Проверка: True\n"
          ],
          "name": "stdout"
        }
      ]
    },
    {
      "cell_type": "markdown",
      "metadata": {
        "id": "bC-nO33aPZfi"
      },
      "source": [
        "#### __2.__ Найти нормы векторов $(4, 2, 4)$ и $(12, 3, 4)$ и угол между ними."
      ]
    },
    {
      "cell_type": "code",
      "metadata": {
        "id": "fN9_CpiYOobO"
      },
      "source": [
        "from numpy.linalg import norm"
      ],
      "execution_count": null,
      "outputs": []
    },
    {
      "cell_type": "code",
      "metadata": {
        "id": "IouvnuaZdVrI"
      },
      "source": [
        "a = np.array([4,2,4])\n",
        "b = np.array([12,3,4])"
      ],
      "execution_count": null,
      "outputs": []
    },
    {
      "cell_type": "markdown",
      "metadata": {
        "id": "b7e-LgpKu0Kz"
      },
      "source": [
        "__Решение__"
      ]
    },
    {
      "cell_type": "markdown",
      "metadata": {
        "id": "Y3N3INrzdfjl"
      },
      "source": [
        "Определим манхэттенскую норму вектора $a$:\n",
        "\n",
        "$$\\left\\|x\\right\\|_{1} = |4|+|2|+|4|=10$$"
      ]
    },
    {
      "cell_type": "code",
      "metadata": {
        "colab": {
          "base_uri": "https://localhost:8080/"
        },
        "id": "RorWpd9vd5XO",
        "outputId": "33f8878b-6134-4489-e3bf-20fe42d6bf49"
      },
      "source": [
        "print(f'Манхетовская норма вектора a:\\n{norm(a, ord=1)}')"
      ],
      "execution_count": null,
      "outputs": [
        {
          "output_type": "stream",
          "text": [
            "Манхетовская норма вектора a:\n",
            "10.0\n"
          ],
          "name": "stdout"
        }
      ]
    },
    {
      "cell_type": "markdown",
      "metadata": {
        "id": "VFD00_R4duNG"
      },
      "source": [
        "Определим манхэттенскую норму вектора $b$:\n",
        "\n",
        "$$\\left\\|x\\right\\|_{1} = |12|+|3|+|4|=19$$"
      ]
    },
    {
      "cell_type": "code",
      "metadata": {
        "colab": {
          "base_uri": "https://localhost:8080/"
        },
        "id": "YhZ12uqwdq9r",
        "outputId": "75c96f8c-780b-497e-d7e6-649fc8d11aaf"
      },
      "source": [
        "print(f'Манхетовская норма вектора b:\\n{norm(b, ord=1)}')"
      ],
      "execution_count": null,
      "outputs": [
        {
          "output_type": "stream",
          "text": [
            "Манхетовская норма вектора b:\n",
            "19.0\n"
          ],
          "name": "stdout"
        }
      ]
    },
    {
      "cell_type": "markdown",
      "metadata": {
        "id": "ynoVrl9beOJs"
      },
      "source": [
        "Определим евклидову норму вектора $a$:\n",
        "\n",
        "$$\\left\\|x\\right\\|_{2} = \\sqrt{4^{2}+2^{2}+4^{2}}=\\sqrt{36}=6$$"
      ]
    },
    {
      "cell_type": "code",
      "metadata": {
        "colab": {
          "base_uri": "https://localhost:8080/"
        },
        "id": "EcDnuHtPeBEv",
        "outputId": "7b07d9bb-0d06-4d1c-e37b-4e8dd42154fc"
      },
      "source": [
        "print(f'Евклидова норма вектора а:\\n{norm(a, ord=2)}')"
      ],
      "execution_count": null,
      "outputs": [
        {
          "output_type": "stream",
          "text": [
            "Евклидова норма вектора а:\n",
            "6.0\n"
          ],
          "name": "stdout"
        }
      ]
    },
    {
      "cell_type": "markdown",
      "metadata": {
        "id": "TO1tgnbDerYC"
      },
      "source": [
        "Определим евклидову норму вектора $b$:\n",
        "\n",
        "$$\\left\\|x\\right\\|_{2} = \\sqrt{12^{2}+3^{2}+4^{2}}=\\sqrt{169}=13$$"
      ]
    },
    {
      "cell_type": "code",
      "metadata": {
        "colab": {
          "base_uri": "https://localhost:8080/"
        },
        "id": "pdVVpMBIepAY",
        "outputId": "83fc1b8d-9239-42a4-9657-7ab6769c5cb8"
      },
      "source": [
        "print(f'Евклидова норма вектора b:\\n{norm(b, ord=2)}')"
      ],
      "execution_count": null,
      "outputs": [
        {
          "output_type": "stream",
          "text": [
            "Евклидова норма вектора b:\n",
            "13.0\n"
          ],
          "name": "stdout"
        }
      ]
    },
    {
      "cell_type": "markdown",
      "metadata": {
        "id": "2T2a9UjBg-Hu"
      },
      "source": [
        "В любом вещественном евклидовом пространстве можно ввести понятие _угла_ между двумя произвольными элементами $x$ и $y$, косинус которого равен:\n",
        "\n",
        "$$cos\\varphi = \\frac{(x,y)}{\\left \\|x\\right \\|\\cdot\\left \\|y\\right \\|}.$$"
      ]
    },
    {
      "cell_type": "markdown",
      "metadata": {
        "id": "c3Yacdr6fjCD"
      },
      "source": [
        "Определим угол между векторами a и b:\n",
        "\n",
        "$$cos\\varphi = \\frac{4\\cdot12+2\\cdot3+4\\cdot4}{\\sqrt{36}\\sqrt{169}}=\\frac{70}{78}\\approx 0.897$$"
      ]
    },
    {
      "cell_type": "code",
      "metadata": {
        "colab": {
          "base_uri": "https://localhost:8080/"
        },
        "id": "DNgidb5Se8kA",
        "outputId": "420c99e1-5e9e-4cb3-f0bc-2a647f419e1e"
      },
      "source": [
        "cos_phi = np.dot(a, b) / norm(a) / norm(b)\n",
        "cos_phi"
      ],
      "execution_count": null,
      "outputs": [
        {
          "output_type": "execute_result",
          "data": {
            "text/plain": [
              "0.8974358974358974"
            ]
          },
          "metadata": {
            "tags": []
          },
          "execution_count": 9
        }
      ]
    },
    {
      "cell_type": "markdown",
      "metadata": {
        "id": "U49v5JQmhlsw"
      },
      "source": [
        "#### __3.__ Будет ли линейное пространство евклидовым, если за скалярное произведение принять:<br>\n",
        "а) произведение длин векторов;<br>\n",
        "б) утроенное обычное скалярное произведение векторов?"
      ]
    },
    {
      "cell_type": "markdown",
      "metadata": {
        "id": "ycLj-COFj8I1"
      },
      "source": [
        "Линейное пространство над полем вещественных чисел называется _евклидовым пространством_, если на нем введено правило, согласно которому каждой упорядоченной паре векторов $x$ и $y$ поставлено в соответствие вещественное число, называемое _скалярным произведением_ и обозначаемое символом $(x, y)$.\n",
        "\n",
        "При этом указанное правило должно подчиняться четырем аксиомам:<br>\n",
        "1) $(x,y)=(y,x);$<br>\n",
        "2) $(\\lambda x, y)=\\lambda(x, y);$<br>\n",
        "3) $(x_{1}+x_{2},y)=(x_{1},y)+(x_{2},y);$<br>\n",
        "4) $(x, x)\\geq0$, причем $(x,x)=0\\Leftrightarrow x=0.$\n"
      ]
    },
    {
      "cell_type": "markdown",
      "metadata": {
        "id": "lR43TLXLuIhf"
      },
      "source": [
        "__Решение__\n",
        "\n",
        "Ответы: Думаю, что ответы \"да\" на оба вопроса, но решения не знаю(("
      ]
    },
    {
      "cell_type": "markdown",
      "metadata": {
        "id": "eprxYPxangaU"
      },
      "source": [
        "#### __4.__ Какие из нижеперечисленных векторов образуют ортонормированный базис в линейном пространстве $\\mathbb{R}^{3}$:<br>\n",
        "а) $(1,0,0),(0,0,1);$ <br>\n",
        "б) $(1/\\sqrt{2},-1/\\sqrt{2},0),(1/\\sqrt{2},1/\\sqrt{2},0), (0,0,1);$<br>\n",
        "в) $(1/2, -1/2, 0), (0, 1/2, 1/2), (0,0,1);$<br>\n",
        "г) $(1,0,0),(0,1,0),(0,0,1)?$ "
      ]
    },
    {
      "cell_type": "markdown",
      "metadata": {
        "id": "xsjWLa-Gukhw"
      },
      "source": [
        "__Решение__\n",
        "\n",
        "В евклидовом пространстве $E$ элементы $x$ и $y$ называются _ортогональными_, если\n",
        "\n",
        "$$(x,y)=0.$$"
      ]
    },
    {
      "cell_type": "code",
      "metadata": {
        "id": "hpDrPvNLonlC"
      },
      "source": [
        "def orto_check(a,b,c=np.array([0,0,0])):\n",
        "  if (a @ b) == 0 and (a @ c) == 0:\n",
        "    return 'образуют ортонормированный базис'\n",
        "  else:\n",
        "    return 'не образуют ортонормированный базис'"
      ],
      "execution_count": null,
      "outputs": []
    },
    {
      "cell_type": "code",
      "metadata": {
        "colab": {
          "base_uri": "https://localhost:8080/"
        },
        "id": "LOe52WT0gc7K",
        "outputId": "04dee9b0-9b0a-4424-87c9-241e808405e6"
      },
      "source": [
        "print(f'а) Вектора (1,0,0),(0,0,1) {orto_check(np.array([1,0,0]), np.array([0,0,1]))}')\n",
        "print(f'б) Вектора (1/2‾√,−1/2‾√,0),(1/2‾√,1/2‾√,0),(0,0,1) {orto_check(np.array([(1/2**0.5),-(1/(2**0.5)),0]), np.array([(1/2**0.5),(1/2**0.5),0]), np.array([0,0,1]))}')\n",
        "print(f'в) Вектора (1/2,−1/2,0),(0,1/2,1/2),(0,0,1) {orto_check(np.array([1/2,-1/2,0]), np.array([0,1/2,1/2]), np.array([0,0,1]))}')\n",
        "print(f'г) Вектора (1,0,0),(0,1,0),(0,0,1) {orto_check(np.array([1,0,0]), np.array([0,1,0]), np.array([0,0,1]))}')"
      ],
      "execution_count": null,
      "outputs": [
        {
          "output_type": "stream",
          "text": [
            "а) Вектора (1,0,0),(0,0,1) образуют ортонормированный базис\n",
            "б) Вектора (1/2‾√,−1/2‾√,0),(1/2‾√,1/2‾√,0),(0,0,1) не образуют ортонормированный базис\n",
            "в) Вектора (1/2,−1/2,0),(0,1/2,1/2),(0,0,1) не образуют ортонормированный базис\n",
            "г) Вектора (1,0,0),(0,1,0),(0,0,1) образуют ортонормированный базис\n"
          ],
          "name": "stdout"
        }
      ]
    }
  ]
}