{
  "nbformat": 4,
  "nbformat_minor": 0,
  "metadata": {
    "colab": {
      "name": "Lesson_3.ipynb",
      "provenance": [],
      "authorship_tag": "ABX9TyNEwMdNpqYY42WnxVg1GdCF"
    },
    "kernelspec": {
      "name": "python3",
      "display_name": "Python 3"
    },
    "language_info": {
      "name": "python"
    }
  },
  "cells": [
    {
      "cell_type": "markdown",
      "metadata": {
        "id": "4OvS9PI0wdnw"
      },
      "source": [
        "### Практическое задание Часть 5"
      ]
    },
    {
      "cell_type": "code",
      "metadata": {
        "id": "PASY3_9ZDKdK"
      },
      "source": [
        "import numpy as np"
      ],
      "execution_count": 1,
      "outputs": []
    },
    {
      "cell_type": "markdown",
      "metadata": {
        "id": "wOkP95DHDFNd"
      },
      "source": [
        "__1.__ Найти собственные векторы и собственные значения для линейного оператора, заданного матрицей\n",
        "\n",
        "$$A=\\begin{pmatrix}\n",
        "-1 & -6\\\\ \n",
        "2 & 6\n",
        "\\end{pmatrix}.$$"
      ]
    },
    {
      "cell_type": "markdown",
      "metadata": {
        "id": "n8bkRD-zQdIZ"
      },
      "source": [
        "__Решение__\n",
        "\n",
        "Найдем собственные значения линейного оператора, составив и решив характеристическое уравнение:\n",
        "\n",
        "$$\\begin{vmatrix}\n",
        "-1-\\lambda & -6\\\\ \n",
        "2 & 6-\\lambda\n",
        "\\end{vmatrix} = 0,$$\n",
        "\n",
        "$$(-1-\\lambda)(6-\\lambda)-(-6)\\cdot2=0,$$\n",
        "\n",
        "$$-6+\\lambda-6\\lambda+\\lambda^2+12=0,$$\n",
        "\n",
        "$$6-5\\lambda+\\lambda^2=0,$$\n",
        "\n",
        "$$\\lambda_{1}=2$$\n",
        "\n",
        "$$\\lambda_{2}=3$$"
      ]
    },
    {
      "cell_type": "markdown",
      "metadata": {
        "id": "GyqkOS0LSt7W"
      },
      "source": [
        "Теперь найдем собственные векторы вида $\\begin{pmatrix}\n",
        "x_{1}\\\\ \n",
        "x_{2}\n",
        "\\end{pmatrix}$, подставив полученное собственное значение в выражение $\\textbf{A}x=\\lambda x$:\n",
        "\n",
        "$$\\begin{pmatrix}\n",
        "a & b\\\\ \n",
        "c & d\n",
        "\\end{pmatrix}\n",
        "\\begin{pmatrix}\n",
        "x_{1}\\\\ \n",
        "x_{2}\n",
        "\\end{pmatrix}=\n",
        "\\lambda\n",
        "\\begin{pmatrix}\n",
        "x_{1}\\\\ \n",
        "x_{2}\n",
        "\\end{pmatrix}\n",
        "$$"
      ]
    },
    {
      "cell_type": "markdown",
      "metadata": {
        "id": "aMNs8oKlS3DF"
      },
      "source": [
        "Для $\\lambda_{1}$ получим:\n",
        "\n",
        "$$\\begin{cases}\n",
        "ax_{1}+bx_{2}=\\lambda_{1} x_{1}, \\\\\n",
        "cx_{1}+dx_{2}=\\lambda_{1} x_{2}.\n",
        "\\end{cases}$$ \n",
        "\n",
        "$$\\begin{cases}\n",
        "-1x_{1}-6x_{2} - 2x_{1} = 0, \\\\\n",
        "2\\cdot x_{1}+6x_{2} - 2x_{2} = 0;\n",
        "\\end{cases}$$ \n",
        "\n",
        "$$\\begin{cases}\n",
        "-3x_{1} = 6x_{2}, \\\\\n",
        "2x_{1} = -4x_{2};\n",
        "\\end{cases}$$ \n",
        "\n",
        "$$\\begin{cases}\n",
        "x_{1} = 2x_{2}, \\\\\n",
        "x_{1} = 2x_{2};\n",
        "\\end{cases}$$ "
      ]
    },
    {
      "cell_type": "markdown",
      "metadata": {
        "id": "FExZsVTleCzu"
      },
      "source": [
        "Для $\\lambda_{2}$ получим:\n",
        "\n",
        "$$\\begin{cases}\n",
        "ax_{1}+bx_{2}=\\lambda_{2} x_{1}, \\\\\n",
        "cx_{1}+dx_{2}=\\lambda_{2} x_{2}.\n",
        "\\end{cases}$$ \n",
        "\n",
        "$$\\begin{cases}\n",
        "-1x_{1}-6x_{2} - 3x_{1} = 0, \\\\\n",
        "2\\cdot x_{1}+6x_{2} - 3x_{2} = 0;\n",
        "\\end{cases}$$ \n",
        "\n",
        "$$\\begin{cases}\n",
        "-4x_{1} = 6x_{2}, \\\\\n",
        "2x_{1} = -3x_{2};\n",
        "\\end{cases}$$ \n",
        "\n",
        "$$\\begin{cases}\n",
        "x_{1} = 1.5x_{2}, \\\\\n",
        "x_{1} = 1.5x_{2};\n",
        "\\end{cases}$$ "
      ]
    },
    {
      "cell_type": "markdown",
      "metadata": {
        "id": "Mv_BCNomgUhp"
      },
      "source": [
        "__Ответ__: \n",
        "\n",
        "при $\\lambda_{1}=2$ собственный вектор $(2t, t)$ где $t$ любое число\n",
        "\n",
        "при $\\lambda_{2}=3$ собственный вектор $(1.5t, t)$ где $t$ любое число"
      ]
    },
    {
      "cell_type": "code",
      "metadata": {
        "colab": {
          "base_uri": "https://localhost:8080/"
        },
        "id": "i7pq7u9VDF3G",
        "outputId": "5b7722c3-fc75-4260-8006-cbf25e359179"
      },
      "source": [
        "a = np.array([[-1, -6], [2, 6]])\n",
        "w, v = np.linalg.eig(a)\n",
        "\n",
        "print(f'Матрица A:\\n{a}')\n",
        "print(f'Собственные значения:\\n{w}')\n",
        "print(f'Собственные векторы:\\n{v}')"
      ],
      "execution_count": 2,
      "outputs": [
        {
          "output_type": "stream",
          "text": [
            "Матрица A:\n",
            "[[-1 -6]\n",
            " [ 2  6]]\n",
            "Собственные значения:\n",
            "[2. 3.]\n",
            "Собственные векторы:\n",
            "[[-0.89442719  0.83205029]\n",
            " [ 0.4472136  -0.5547002 ]]\n"
          ],
          "name": "stdout"
        }
      ]
    },
    {
      "cell_type": "markdown",
      "metadata": {
        "id": "mdxg03bMgzze"
      },
      "source": [
        "__2.__ Дан оператор поворота на 180 градусов, задаваемый матрицей \n",
        "\n",
        "$$A=\\begin{pmatrix}\n",
        "-1 & 0\\\\ \n",
        "0 & -1\n",
        "\\end{pmatrix}.$$\n",
        "\n",
        "Показать, что __любой__ вектор является для него собственным."
      ]
    },
    {
      "cell_type": "markdown",
      "metadata": {
        "id": "dzN8SNQKnJYK"
      },
      "source": [
        "__Решение__\n",
        "\n",
        "Вначале найдем собственное значение линейного оператора, составив и решив характеристическое уравнение:\n",
        "\n",
        "$$\\begin{vmatrix}\n",
        "-1-\\lambda & 0\\\\ \n",
        "0 & -1-\\lambda\n",
        "\\end{vmatrix} = 0,$$\n",
        "\n",
        "$$(-1-\\lambda)^2-0=0,$$\n",
        "\n",
        "$$\\lambda=-1$$"
      ]
    },
    {
      "cell_type": "markdown",
      "metadata": {
        "id": "s2QmtlXAonio"
      },
      "source": [
        "Предположим, что любой вектор $x$ является собственным вектором заданного линейного оператора, тогда при $\\lambda=-1$, должно соблюдаться равенство\n",
        "\n",
        "$$\\begin{pmatrix}\n",
        "-1 & 0\\\\ \n",
        "0 & -1\n",
        "\\end{pmatrix}\n",
        "\\begin{pmatrix}\n",
        "x_1\\\\ \n",
        "x_2 \n",
        "\\end{pmatrix}=\n",
        "-1\n",
        "\\begin{pmatrix}\n",
        "x_1\\\\ \n",
        "x_2\n",
        "\\end{pmatrix}\n",
        "$$\n",
        "\n",
        "Из этого будет следовать, что \n",
        "\n",
        "$$\\begin{cases}\n",
        "-x_1=-x_1 \\\\ \n",
        "-x_2 = -x_2\n",
        "\\end{cases}$$\n",
        "\n",
        "Поскольку равенство соблюдается, то __любой__ вектор оператора А является для него собственным."
      ]
    },
    {
      "cell_type": "markdown",
      "metadata": {
        "id": "7VZm1j2vg89N"
      },
      "source": [
        "__3.__ Пусть линейный оператор задан матрицей\n",
        "\n",
        "$$A=\\begin{pmatrix}\n",
        "1 & 1\\\\ \n",
        "-1 & 3\n",
        "\\end{pmatrix}.$$\n",
        "\n",
        "Установить, является ли вектор $x=(1,1)$ собственным вектором этого линейного оператора."
      ]
    },
    {
      "cell_type": "markdown",
      "metadata": {
        "id": "xe1hfSwvhaOg"
      },
      "source": [
        "__Решение__\n",
        "\n",
        "Предположим, что вектор $x$ является собственным вектором заданного линейного оператора, тогда должно существовать некоторое вещественное число $\\lambda$, при котором \n",
        "\n",
        "$$\\begin{pmatrix}\n",
        "1 & 1\\\\ \n",
        "-1 & 3\n",
        "\\end{pmatrix}\n",
        "\\begin{pmatrix}\n",
        "1\\\\ \n",
        "1 \n",
        "\\end{pmatrix}=\n",
        "\\lambda\n",
        "\\begin{pmatrix}\n",
        "1\\\\ \n",
        "1\n",
        "\\end{pmatrix}\n",
        "$$\n",
        "\n",
        "Из этого будет следовать, что \n",
        "\n",
        "$$\\begin{cases}\n",
        "1+1=\\lambda \\\\ \n",
        "-1+3 = \\lambda\n",
        "\\end{cases}\n",
        "\\Rightarrow\n",
        "\\begin{cases}\n",
        "\\lambda=2\\\\ \n",
        "\\lambda=2\n",
        "\\end{cases}\n",
        "\\Rightarrow\n",
        "\\lambda=2$$\n",
        "\n",
        "Поскольку $\\lambda$ существует, следовательно, вектор $x=(1,1)$ является собственным вектором линейного оператора, заданного матрицей $A$."
      ]
    },
    {
      "cell_type": "markdown",
      "metadata": {
        "id": "Wi1UR4QnhBmd"
      },
      "source": [
        "__4.__ Пусть линейный оператор задан матрицей\n",
        "\n",
        "$$A=\\begin{pmatrix}\n",
        "0 & 3 & 0\\\\ \n",
        "3 & 0 & 0\\\\\n",
        "0 & 0 & 3\n",
        "\\end{pmatrix}.$$\n",
        "\n",
        "Установить, является ли вектор $x=(3, -3, -4)$ собственным вектором этого линейного оператора."
      ]
    },
    {
      "cell_type": "markdown",
      "metadata": {
        "id": "nGHyMXMRjhLt"
      },
      "source": [
        "__Решение__\n",
        "\n",
        "Предположим, что вектор $x$ является собственным вектором заданного линейного оператора, тогда должно существовать некоторое вещественное число $\\lambda$, при котором \n",
        "\n",
        "$$\\begin{pmatrix}\n",
        "0 & 3 & 0\\\\ \n",
        "3 & 0 & 0\\\\\n",
        "0 & 0 & 3\n",
        "\\end{pmatrix}\n",
        "\\begin{pmatrix}\n",
        "3\\\\\n",
        "-3\\\\\n",
        "-4\n",
        "\\end{pmatrix}=\n",
        "\\lambda\n",
        "\\begin{pmatrix}\n",
        "3\\\\\n",
        "-3\\\\\n",
        "-4\n",
        "\\end{pmatrix}\n",
        "$$\n",
        "\n",
        "$$\\Rightarrow\n",
        "\\begin{cases}\n",
        "\\lambda=-3\\\\ \n",
        "\\lambda=-3\\\\\n",
        "\\lambda=3\n",
        "\\end{cases}\n",
        "$$\n",
        "\n",
        "Такая система не имеет смысла, следовательно, вектор $x=(3,-3,-4)$ не является собственным вектором линейного оператора, заданного матрицей $A$."
      ]
    }
  ]
}