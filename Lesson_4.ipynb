{
  "nbformat": 4,
  "nbformat_minor": 0,
  "metadata": {
    "colab": {
      "name": "Lesson_4.ipynb",
      "provenance": [],
      "authorship_tag": "ABX9TyNjZaRn/P5lIAKkIu3NULOc"
    },
    "kernelspec": {
      "name": "python3",
      "display_name": "Python 3"
    },
    "language_info": {
      "name": "python"
    }
  },
  "cells": [
    {
      "cell_type": "markdown",
      "metadata": {
        "id": "4OvS9PI0wdnw"
      },
      "source": [
        "### Практическое задание Часть 6"
      ]
    },
    {
      "cell_type": "code",
      "metadata": {
        "id": "PASY3_9ZDKdK"
      },
      "source": [
        "import numpy as np"
      ],
      "execution_count": null,
      "outputs": []
    },
    {
      "cell_type": "markdown",
      "metadata": {
        "id": "OQFjJ3rXcZ0d"
      },
      "source": [
        "__1.__ Решить систему уравнений методом Гаусса:\n",
        "\n",
        "$$\\begin{cases}\n",
        "x_{1}+x_{2}-x_{3}-2x_{4}=0, \\\\\n",
        "2x_{1}+x_{2}-x_{3}+x_{4}=-2, \\\\\n",
        "x_{1}+x_{2}-3x_{3}+x_{4}=4.\n",
        "\\end{cases}$$"
      ]
    },
    {
      "cell_type": "markdown",
      "metadata": {
        "id": "5dlCEKEWfb2s"
      },
      "source": [
        "__Решение__\n",
        "\n",
        "Запишем расширенную матрицу системы:\n",
        "\n",
        "$$\\begin{pmatrix}\n",
        "\\left.\\begin{matrix}\n",
        "1 & 1 & -1 & -2 \\\\ \n",
        "2 & 1 & -1 & 1 \\\\ \n",
        "1 & 1 & -3 & 1\n",
        "\\end{matrix}\\right|\n",
        "\\begin{matrix}\n",
        "0\\\\ \n",
        "-2\\\\\n",
        "4\n",
        "\\end{matrix}\n",
        "\\end{pmatrix}.$$\n",
        "\n",
        "Путем элементарных преобразований постараемся привести матрицу к ступенчатому виду.\n",
        "\n",
        "Вычтем из второй строки первую, умноженную на 2:\n",
        "\n",
        "$$\\begin{pmatrix}\n",
        "\\left.\\begin{matrix}\n",
        "1 & 1 & -1 & -2 \\\\ \n",
        "0 & -1 & 1 & 5 \\\\ \n",
        "1 & 1 & -3 & 1\n",
        "\\end{matrix}\\right|\n",
        "\\begin{matrix}\n",
        "0\\\\ \n",
        "-2\\\\\n",
        "4\n",
        "\\end{matrix}\n",
        "\\end{pmatrix}.$$\n",
        "\n",
        "Вычтем из третьей строки первую:\n",
        "\n",
        "$$\\begin{pmatrix}\n",
        "\\left.\\begin{matrix}\n",
        "1 & 1 & -1 & -2 \\\\ \n",
        "0 & -1 & 1 & 5 \\\\ \n",
        "0 & 0 & -2 & 3\n",
        "\\end{matrix}\\right|\n",
        "\\begin{matrix}\n",
        "0\\\\ \n",
        "-2\\\\\n",
        "4\n",
        "\\end{matrix}\n",
        "\\end{pmatrix}.$$"
      ]
    },
    {
      "cell_type": "markdown",
      "metadata": {
        "id": "sEJ1zOUSiJXM"
      },
      "source": [
        "В итоге после преобразований мы получили матрицу треугльного вида, которая представляет следующую систему:\n",
        "\n",
        "$$\\begin{cases}\n",
        "x_{1}+x_{2}-x_{3}-2x_{4}=0, \\\\\n",
        "~~~-x_{2}+x_{3}+5x_{4}=-2, \\\\\n",
        "~~~~~~~~~~~~-2x_{3}+3x_{4}=4.\n",
        "\\end{cases}$$"
      ]
    },
    {
      "cell_type": "markdown",
      "metadata": {
        "id": "tkL1dl6rn9pa"
      },
      "source": [
        "Бесконечное множество решений принято записывать в виде _общего решения_.\n",
        "\n",
        "Последнее уравнение содержит две неизвестных. Неизвестные, «сидящие» на ступеньках матрицы, принято назывть _базисными_, и их нужно выразить через _свободные_ неизвестные. В данном случае можно рассматривать в качестве _свободного_ параметра $x_{4}=c$. Тогда, выражая остальные переменные через $c$, получим:\n",
        "\n",
        "$$x_{4}=c,$$\n",
        "$$-2x_{3}+3c=4 \\; \\Leftrightarrow \\; x_{3}=3c/2-2,$$\n",
        "$$-x_{2}+3c/2-2+5c=-2 \\; \\Leftrightarrow \\; x_{2}=13c/2,$$\n",
        "$$x_{1} + 13c/2 - 3c/2+2 - 2c=0 \\; \\Leftrightarrow \\; x_{1}=3c-2.$$\n",
        "\n",
        "Таковым будет _общее решение системы_. Подставляя произвольные числа вместо $c$, мы получим _частное решение_. Например, при $c=0$:\n",
        "\n",
        "$$x_{1}=-2,$$\n",
        "$$x_{2}=0,$$\n",
        "$$x_{3}=-2$$\n",
        "$$x_{4}=0.$$\n",
        "\n",
        "Считаем, что параметр $c$ может принимать бесконечное количество значений, при которых уравнения в системе будут обращаться в тождества.\n",
        "\n",
        "Но, подставив общее решение в исходную систему, получим тождества __только при с=0__:\n",
        "\n",
        "$$\\begin{cases}\n",
        "3c-2 + 13c/2 - 3c/2+2 -2с=0 \\; \\Leftrightarrow \\; 6с=0 \\; \\Rightarrow \\;c=0, \\\\\n",
        "2(3c-2)+13c/2-3c/2+2+c=-2 \\; \\Leftrightarrow \\; 12с-2=-2 \\; \\Rightarrow \\;c=0, \\\\\n",
        "3c-2+13c/2-3(3c/2-2)+c=4 \\; \\Leftrightarrow \\; 6с+4=4 \\; \\Rightarrow \\;c=0.\n",
        "\\end{cases}$$\n",
        "\n",
        "Таким образом, либо я решил задачу неправильно, либо имеем только одно решение:\n",
        "\n",
        "$$x_{1}=-2,$$\n",
        "$$x_{2}=0,$$\n",
        "$$x_{3}=-2$$\n",
        "$$x_{4}=0.$$"
      ]
    },
    {
      "cell_type": "markdown",
      "metadata": {
        "id": "bPmMbxiGGTVe"
      },
      "source": [
        "__2.__ Проверить на совместность и выяснить, сколько решений будет иметь система линейных уравнений:\n",
        "\n",
        "   а) $\\begin{cases}\n",
        "3x_{1}-x_{2}+x_{3}=4, \\\\\n",
        "2x_{1}-5x_{2}-3x_{3}=-17, \\\\\n",
        "x_{1}+x_{2}-x_{3}=0;\n",
        "\\end{cases}$\n",
        "    \n",
        "   б) $\\begin{cases}\n",
        "2x_{1}-4x_{2}+6x_{3}=1, \\\\\n",
        "x_{1}-2x_{2}+3x_{3}=-2, \\\\\n",
        "3x_{1}-6x_{2}+9x_{3}=5;\n",
        "\\end{cases}$\n",
        "    \n",
        "   в) $\\begin{cases}\n",
        "x_{1}+2x_{2}+5x_{3}=4, \\\\\n",
        "3x_{1}+x_{2}-8x_{3}=-2. \n",
        "\\end{cases}$"
      ]
    },
    {
      "cell_type": "markdown",
      "metadata": {
        "id": "R2H6gnG2kezM"
      },
      "source": [
        "__Решение__\n",
        "\n",
        "__Согласно теореме Кронекера — Капелли__\n",
        "\n",
        "Необходимым и достаточным условием совместности системы из $m$ уравнений с $n$ неизвестными является равенство между собой рангов матрицы коэффициентов $A$ и расширенной матрицы $\\tilde A$\n",
        "\n",
        "$$rank A=rank \\tilde A.$$\n",
        "\n",
        "Причем:<br>\n",
        "1) если $rankA=rank \\tilde A=n$, где $n$ — число неизвестных, то система определена, т. е. имеет единственное решение;<br>\n",
        "2) если $rankA=rank \\tilde A<n$, то система имеет бесконечное количество решений;<br>\n",
        "3) если $rankA<rank \\tilde A$, то система несовместна."
      ]
    },
    {
      "cell_type": "code",
      "metadata": {
        "colab": {
          "base_uri": "https://localhost:8080/"
        },
        "id": "7P_FyB6zcb_p",
        "outputId": "695da48c-906c-402d-e9cc-d5826699581b"
      },
      "source": [
        "a = np.array([[3, -1, 1], [2, -5, -3], [1, 1, -1]])\n",
        "ar = np.array([[3, -1, 1, 4], [2, -5, -3, -17], [1, 1, -1, 0]])\n",
        "\n",
        "r = np.linalg.matrix_rank(a)\n",
        "rr = np.linalg.matrix_rank(ar)\n",
        "\n",
        "print(f'Ранг матрицы a: {r}')\n",
        "print(f'Ранг матрицы ar: {rr}')\n",
        "print(f'Число неизвестных: 3')"
      ],
      "execution_count": null,
      "outputs": [
        {
          "output_type": "stream",
          "text": [
            "Ранг матрицы a: 3\n",
            "Ранг матрицы ar: 3\n",
            "Число неизвестных: 3\n"
          ],
          "name": "stdout"
        }
      ]
    },
    {
      "cell_type": "code",
      "metadata": {
        "colab": {
          "base_uri": "https://localhost:8080/"
        },
        "id": "U64gi84sl17d",
        "outputId": "80d0fdf2-6a25-4c9c-fd15-4a80628a295b"
      },
      "source": [
        "a = np.array([[2, -4, 6], [1, -2, 3], [3, -6, 9]])\n",
        "ar = np.array([[2, -4, 6, 1], [1, -2, 3, -2], [3, -6, 9, 5]])\n",
        "\n",
        "r = np.linalg.matrix_rank(a)\n",
        "rr = np.linalg.matrix_rank(ar)\n",
        "\n",
        "print(f'Ранг матрицы a: {r}')\n",
        "print(f'Ранг матрицы ar: {rr}')\n",
        "print(f'Число неизвестных: 3')"
      ],
      "execution_count": null,
      "outputs": [
        {
          "output_type": "stream",
          "text": [
            "Ранг матрицы a: 1\n",
            "Ранг матрицы ar: 2\n",
            "Число неизвестных: 3\n"
          ],
          "name": "stdout"
        }
      ]
    },
    {
      "cell_type": "code",
      "metadata": {
        "colab": {
          "base_uri": "https://localhost:8080/"
        },
        "id": "ReGVuUnFmYIg",
        "outputId": "9ba1efdf-1826-4ea8-d09e-33e083812305"
      },
      "source": [
        "a = np.array([[1, 2, 5], [3, 1, -8]])\n",
        "ar = np.array([[1, 2, 5, 4], [3, 1, -8, -2]])\n",
        "\n",
        "r = np.linalg.matrix_rank(a)\n",
        "rr = np.linalg.matrix_rank(ar)\n",
        "\n",
        "print(f'Ранг матрицы a: {r}')\n",
        "print(f'Ранг матрицы ar: {rr}')\n",
        "print(f'Число неизвестных: 3')"
      ],
      "execution_count": null,
      "outputs": [
        {
          "output_type": "stream",
          "text": [
            "Ранг матрицы a: 2\n",
            "Ранг матрицы ar: 2\n",
            "Число неизвестных: 3\n"
          ],
          "name": "stdout"
        }
      ]
    },
    {
      "cell_type": "markdown",
      "metadata": {
        "id": "4rHYe56KlJQF"
      },
      "source": [
        "__Ответ:__\n",
        "\n",
        "а) система определена, т. е. имеет единственное решение\n",
        "\n",
        "б) система несовместна\n",
        "\n",
        "в) система совместна и имеет бесконечное количество решений"
      ]
    },
    {
      "cell_type": "markdown",
      "metadata": {
        "id": "VprfhD1fn115"
      },
      "source": [
        "__3.__ Проверить на совместность и выяснить, сколько решений будет иметь система линейных уравнений, заданная расширенной матрицей\n",
        "\n",
        "$$\\tilde{A}=\\begin{pmatrix}\n",
        "\\left.\\begin{matrix}\n",
        "1 & 3 & -2 & 4\\\\ \n",
        "0 & 5 & 0 & 1\\\\ \n",
        "0 & 0 & 3 & 0\\\\ \n",
        "0 & 0 & 0 & 2\n",
        "\\end{matrix}\\right|\n",
        "\\begin{matrix}\n",
        "3\\\\ \n",
        "2\\\\\n",
        "4\\\\\n",
        "1\n",
        "\\end{matrix}\n",
        "\\end{pmatrix}.$$"
      ]
    },
    {
      "cell_type": "code",
      "metadata": {
        "colab": {
          "base_uri": "https://localhost:8080/"
        },
        "id": "X3jiweKGcb6z",
        "outputId": "607fb112-1341-47bd-eba5-bb7036ef4ed3"
      },
      "source": [
        "a = np.array([[1, 3, -2, 4], [0, 5, 0, 1], [0, 0, 3, 0], [0, 0, 0, 2]])\n",
        "ar = np.array([[1, 3, -2, 4, 3], [0, 5, 0, 1, 2], [0, 0, 3, 0, 4], [0, 0, 0, 2, 1]])\n",
        "\n",
        "r = np.linalg.matrix_rank(a)\n",
        "rr = np.linalg.matrix_rank(ar)\n",
        "\n",
        "print(f'Ранг матрицы a: {r}')\n",
        "print(f'Ранг матрицы ar: {rr}')\n",
        "print(f'Число неизвестных: 4')"
      ],
      "execution_count": null,
      "outputs": [
        {
          "output_type": "stream",
          "text": [
            "Ранг матрицы a: 4\n",
            "Ранг матрицы ar: 4\n",
            "Число неизвестных: 4\n"
          ],
          "name": "stdout"
        }
      ]
    },
    {
      "cell_type": "markdown",
      "metadata": {
        "id": "Xui6f4vwwlkM"
      },
      "source": [
        "__Ответ:__\n",
        "\n",
        "Система определена, т. е. имеет единственное решение"
      ]
    },
    {
      "cell_type": "markdown",
      "metadata": {
        "id": "koCc2eX3w8-J"
      },
      "source": [
        "__4.__ Дана система линейных уравнений, заданная расширенной матрицей\n",
        "\n",
        "$$\\tilde{A}=\\begin{pmatrix}\n",
        "\\left.\\begin{matrix}\n",
        "1 & 2 & 3\\\\ \n",
        "4 & 5 & 6\\\\ \n",
        "7 & 8 & 9\n",
        "\\end{matrix}\\right|\n",
        "\\begin{matrix}\n",
        "a\\\\ \n",
        "b\\\\\n",
        "c\n",
        "\\end{matrix}\n",
        "\\end{pmatrix}.$$\n",
        "\n",
        "Найти соотношение между параметрами $a$, $b$ и $c$, при которых система является несовместной."
      ]
    },
    {
      "cell_type": "markdown",
      "metadata": {
        "id": "_naCWvFexFod"
      },
      "source": [
        "__Решение__\n",
        "\n",
        "Система несовместна, если $rankA<rank \\tilde A$"
      ]
    },
    {
      "cell_type": "code",
      "metadata": {
        "colab": {
          "base_uri": "https://localhost:8080/"
        },
        "id": "VohKccXncb3n",
        "outputId": "d5be0819-6a85-4751-8750-eea7d70a97e5"
      },
      "source": [
        "a = np.array([[1, 2, 3], [4, 5, 6], [7, 8, 9]])\n",
        "ar = np.array([[1, 2, 3, 1], [4, 5, 6, 1], [7, 8, 9, 1]])\n",
        "\n",
        "r = np.linalg.matrix_rank(a)\n",
        "rr = np.linalg.matrix_rank(ar)\n",
        "\n",
        "print(f'Ранг матрицы a: {r}')\n",
        "print(f'Ранг матрицы ar: {rr}')"
      ],
      "execution_count": null,
      "outputs": [
        {
          "output_type": "stream",
          "text": [
            "Ранг матрицы a: 2\n",
            "Ранг матрицы ar: 2\n"
          ],
          "name": "stdout"
        }
      ]
    },
    {
      "cell_type": "markdown",
      "metadata": {
        "id": "-MqnJ2HWzXij"
      },
      "source": [
        "$rankA=2$, так как первая строка это разница между удвоенной второй строкой и третьей, а значит первую строку можно отбросить.\n",
        "\n",
        "Таким образом, чтобы $rank \\tilde A$ был также равен двум, должно сохраняться условие: $a=2b-c$\n",
        "\n",
        "а значит система является несовместной при условии, когда $a \\neq 2b - c$\n"
      ]
    },
    {
      "cell_type": "markdown",
      "metadata": {
        "id": "Fh9L1uM-v_jf"
      },
      "source": [
        "### Практическое задание Часть 7"
      ]
    },
    {
      "cell_type": "markdown",
      "metadata": {
        "id": "WQN1PKHxwITT"
      },
      "source": [
        "__1.__ Решить систему уравнений методом Крамера:\n",
        "\n",
        "   а) $\\begin{cases}\n",
        "x_{1}-2x_{2}=1 \\\\\n",
        "3x_{1}-4x_{2}=7\n",
        "\\end{cases}$\n",
        "    \n",
        "   б) $\\begin{cases}\n",
        "2x_{1}-x_{2}+5x_{3}=10 \\\\\n",
        "x_{1}+x_{2}-3x_{3}=-2 \\\\\n",
        "2x_{1}+4x_{2}+x_{3}=1\n",
        "\\end{cases}$"
      ]
    },
    {
      "cell_type": "markdown",
      "metadata": {
        "id": "drI7XGc3I1Vf"
      },
      "source": [
        "__Решение__\n",
        "\n",
        "Для системы с $n$ уравнениями и $n$ неизвестными, если система уравнений невырождена (то есть $detA\\neq 0$), то система определена, то есть имеет единственное решение, и это решение может быть найдено по формулам Крамера:\n",
        "\n",
        "$$x_{i}=\\frac{detA_{i}}{detA},$$\n",
        "\n",
        "где $A_{i}$ — это матрица, получаемая заменой $i$-го столбца на вектор-столбец свободных членов $b$.\n",
        "\n",
        "_Следует помнить, что правило Крамера применимо только к системам, в которых количество уравнений совпадает с количеством неизвестных._"
      ]
    },
    {
      "cell_type": "markdown",
      "metadata": {
        "id": "80vTpOTqJSYY"
      },
      "source": [
        "а) $\\begin{cases}\n",
        "x_{1}-2x_{2}=1 \\\\\n",
        "3x_{1}-4x_{2}=7\n",
        "\\end{cases}$\n",
        "\n",
        "Найдем определитель матрицы коэффициентов:"
      ]
    },
    {
      "cell_type": "code",
      "metadata": {
        "colab": {
          "base_uri": "https://localhost:8080/"
        },
        "id": "0jTGj9_qcbw6",
        "outputId": "3f2a6950-f9d6-4be0-8641-3b80908ef97f"
      },
      "source": [
        "a = np.array([[1, -2], [3, -4]])\n",
        "print(f'Матрица:\\n{a}')\n",
        "print(f'Определитель:\\n{np.linalg.det(a):.0f}')"
      ],
      "execution_count": null,
      "outputs": [
        {
          "output_type": "stream",
          "text": [
            "Матрица:\n",
            "[[ 1 -2]\n",
            " [ 3 -4]]\n",
            "Определитель:\n",
            "2\n"
          ],
          "name": "stdout"
        }
      ]
    },
    {
      "cell_type": "markdown",
      "metadata": {
        "id": "hbJX0l40JsLJ"
      },
      "source": [
        "$$detA=2\\neq 0,$$\n",
        "\n",
        "следовательно, система совместна.\n",
        "\n",
        "Найдем определители $detA_{1}$, $detA_{2}$:"
      ]
    },
    {
      "cell_type": "code",
      "metadata": {
        "colab": {
          "base_uri": "https://localhost:8080/"
        },
        "id": "8c8YwDi7Jd4g",
        "outputId": "7bde6c11-0564-4bb2-b57d-8b8f664ca97b"
      },
      "source": [
        "a1 = np.array([[1, -2], [7, -4]])\n",
        "print(f'Матрица:\\n{a1}')\n",
        "print(f'Определитель:\\n{np.linalg.det(a1):.0f}')"
      ],
      "execution_count": null,
      "outputs": [
        {
          "output_type": "stream",
          "text": [
            "Матрица:\n",
            "[[ 1 -2]\n",
            " [ 7 -4]]\n",
            "Определитель:\n",
            "10\n"
          ],
          "name": "stdout"
        }
      ]
    },
    {
      "cell_type": "code",
      "metadata": {
        "colab": {
          "base_uri": "https://localhost:8080/"
        },
        "id": "rk3H2IQ0KRff",
        "outputId": "f07422ea-e24f-4544-d670-e2aca1ff4a4f"
      },
      "source": [
        "a2 = np.array([[1, 1], [3, 7]])\n",
        "print(f'Матрица:\\n{a2}')\n",
        "print(f'Определитель:\\n{np.linalg.det(a2):.0f}')"
      ],
      "execution_count": null,
      "outputs": [
        {
          "output_type": "stream",
          "text": [
            "Матрица:\n",
            "[[1 1]\n",
            " [3 7]]\n",
            "Определитель:\n",
            "4\n"
          ],
          "name": "stdout"
        }
      ]
    },
    {
      "cell_type": "markdown",
      "metadata": {
        "id": "ICn7gMSnKwf9"
      },
      "source": [
        "$$detA_{1}=10,$$\n",
        "\n",
        "$$detA_{2}=4,$$\n",
        "\n",
        "Найдем решение по формулам Крамера:\n",
        "\n",
        "$$x_{1} = \\frac{detA_{1}}{detA} = \\frac{10}{2}=5,$$\n",
        "\n",
        "$$x_{2} = \\frac{detA_{2}}{detA} = \\frac{4}{2}=2.$$\n"
      ]
    },
    {
      "cell_type": "markdown",
      "metadata": {
        "id": "IGbMSjs9MYdQ"
      },
      "source": [
        "б) $\\begin{cases}\n",
        "2x_{1}-x_{2}+5x_{3}=10 \\\\\n",
        "x_{1}+x_{2}-3x_{3}=-2 \\\\\n",
        "2x_{1}+4x_{2}+x_{3}=1\n",
        "\\end{cases}$\n",
        "\n",
        "Найдем определитель матрицы коэффициентов:"
      ]
    },
    {
      "cell_type": "code",
      "metadata": {
        "colab": {
          "base_uri": "https://localhost:8080/"
        },
        "id": "F-JmU42QKp0k",
        "outputId": "9d329484-dc2e-4be8-c802-cf4a829fffbc"
      },
      "source": [
        "a = np.array([[2, -1, 5], [1, 1, -3], [2, 4, 1]])\n",
        "print(f'Матрица:\\n{a}')\n",
        "print(f'Определитель:\\n{np.linalg.det(a):.0f}')"
      ],
      "execution_count": null,
      "outputs": [
        {
          "output_type": "stream",
          "text": [
            "Матрица:\n",
            "[[ 2 -1  5]\n",
            " [ 1  1 -3]\n",
            " [ 2  4  1]]\n",
            "Определитель:\n",
            "43\n"
          ],
          "name": "stdout"
        }
      ]
    },
    {
      "cell_type": "markdown",
      "metadata": {
        "id": "Ip8oJCOiM5ai"
      },
      "source": [
        "$$detA=43\\neq 0,$$\n",
        "\n",
        "следовательно, система совместна.\n",
        "\n",
        "Найдем определители $detA_{1}$, $detA_{2}$, $detA_{3}$:"
      ]
    },
    {
      "cell_type": "code",
      "metadata": {
        "colab": {
          "base_uri": "https://localhost:8080/"
        },
        "id": "yRdk8M-vMzWW",
        "outputId": "586cb5b4-77b2-4672-d173-d89461d87c27"
      },
      "source": [
        "a1 = np.array([[10, -1, 5], [-2, 1, -3], [1, 4, 1]])\n",
        "print(f'Матрица:\\n{a1}')\n",
        "print(f'Определитель:\\n{np.linalg.det(a1):.0f}')"
      ],
      "execution_count": null,
      "outputs": [
        {
          "output_type": "stream",
          "text": [
            "Матрица:\n",
            "[[10 -1  5]\n",
            " [-2  1 -3]\n",
            " [ 1  4  1]]\n",
            "Определитель:\n",
            "86\n"
          ],
          "name": "stdout"
        }
      ]
    },
    {
      "cell_type": "code",
      "metadata": {
        "colab": {
          "base_uri": "https://localhost:8080/"
        },
        "id": "EHmn-YWKNIYq",
        "outputId": "95cf92ed-0b97-4cad-c6d1-24d9c3430dd9"
      },
      "source": [
        "a2 = np.array([[2, 10, 5], [1, -2, -3], [2, 1, 1]])\n",
        "print(f'Матрица:\\n{a2}')\n",
        "print(f'Определитель:\\n{np.linalg.det(a2):.0f}')"
      ],
      "execution_count": null,
      "outputs": [
        {
          "output_type": "stream",
          "text": [
            "Матрица:\n",
            "[[ 2 10  5]\n",
            " [ 1 -2 -3]\n",
            " [ 2  1  1]]\n",
            "Определитель:\n",
            "-43\n"
          ],
          "name": "stdout"
        }
      ]
    },
    {
      "cell_type": "code",
      "metadata": {
        "colab": {
          "base_uri": "https://localhost:8080/"
        },
        "id": "LfX0WFjTNI_F",
        "outputId": "80e8f2ee-4260-433d-8b1f-bc32244412a9"
      },
      "source": [
        "a3 = np.array([[2, -1, 10], [1, 1, -2], [2, 4, 1]])\n",
        "print(f'Матрица:\\n{a3}')\n",
        "print(f'Определитель:\\n{np.linalg.det(a3):.0f}')"
      ],
      "execution_count": null,
      "outputs": [
        {
          "output_type": "stream",
          "text": [
            "Матрица:\n",
            "[[ 2 -1 10]\n",
            " [ 1  1 -2]\n",
            " [ 2  4  1]]\n",
            "Определитель:\n",
            "43\n"
          ],
          "name": "stdout"
        }
      ]
    },
    {
      "cell_type": "markdown",
      "metadata": {
        "id": "XREWk_K2OLzX"
      },
      "source": [
        "$$detA_{1}=86,$$\n",
        "\n",
        "$$detA_{2}=-43,$$\n",
        "\n",
        "$$detA_{3}=43,$$\n",
        "\n",
        "Найдем решение по формулам Крамера:\n",
        "\n",
        "$$x_{1} = \\frac{detA_{1}}{detA} = \\frac{86}{43}=2,$$\n",
        "\n",
        "$$x_{2} = \\frac{detA_{2}}{detA} = \\frac{-43}{43}=-1.$$\n",
        "\n",
        "$$x_{3} = \\frac{detA_{3}}{detA} = \\frac{43}{43}=1.$$"
      ]
    },
    {
      "cell_type": "code",
      "metadata": {
        "id": "whzR7VM6OGyD"
      },
      "source": [
        ""
      ],
      "execution_count": null,
      "outputs": []
    }
  ]
}