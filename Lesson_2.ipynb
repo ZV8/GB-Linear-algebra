{
  "nbformat": 4,
  "nbformat_minor": 0,
  "metadata": {
    "colab": {
      "name": "Lesson_2.ipynb",
      "provenance": [],
      "authorship_tag": "ABX9TyPLqZMDbvxkfRrTrgGxa9N0"
    },
    "kernelspec": {
      "name": "python3",
      "display_name": "Python 3"
    },
    "language_info": {
      "name": "python"
    }
  },
  "cells": [
    {
      "cell_type": "markdown",
      "metadata": {
        "id": "4OvS9PI0wdnw"
      },
      "source": [
        "### Практическое задание Часть 3"
      ]
    },
    {
      "cell_type": "code",
      "metadata": {
        "id": "PASY3_9ZDKdK"
      },
      "source": [
        "import numpy as np"
      ],
      "execution_count": 1,
      "outputs": []
    },
    {
      "cell_type": "markdown",
      "metadata": {
        "id": "WkUdfxyg6rT9"
      },
      "source": [
        "__1.__ Установить, какие произведения матриц $AB$ и $BA$ определены, и найти размерности полученных матриц:\n",
        "\n",
        "   а) $A$ — матрица $4\\times 2$, $B$ — матрица $4\\times 2$;\n",
        "    \n",
        "   б) $A$ — матрица $2\\times 5$, $B$ — матрица $5\\times 3$;\n",
        "    \n",
        "   в) $A$ — матрица $8\\times 3$, $B$ — матрица $3\\times 8$;\n",
        "    \n",
        "   г) $A$ — квадратная матрица $4\\times 4$, $B$ — квадратная матрица $4\\times 4$."
      ]
    },
    {
      "cell_type": "markdown",
      "metadata": {
        "id": "jxnArunB9dth"
      },
      "source": [
        "__Решение__ \n",
        "\n",
        "Произведение двух матриц определено лишь в случае, когда число\n",
        "столбцов первого сомножителя равно числу строк второго.\n",
        "Иными словами, если матрица A имеет размер k × x, а матрица B —\n",
        "размер r × m, то произведение AB существует тогда и только тогда, когда\n",
        "x = r ."
      ]
    },
    {
      "cell_type": "markdown",
      "metadata": {
        "id": "Gd8_rQAx99pI"
      },
      "source": [
        "а) AB и BA не определены;\n",
        "\n",
        "б) AB - определено, размерность 2×3. BA не определено;\n",
        "\n",
        "в) AB и BA определены. AB размерность 8×8. BA размерность 3×3;\n",
        "\n",
        "г) AB и BA определены, размерности 4×4."
      ]
    },
    {
      "cell_type": "markdown",
      "metadata": {
        "id": "m--mvnGZ_487"
      },
      "source": [
        "__2.__ Найти сумму и произведение матриц $A=\\begin{pmatrix}\n",
        "1 & -2\\\\ \n",
        "3 & 0\n",
        "\\end{pmatrix}$ и $B=\\begin{pmatrix}\n",
        "4 & -1\\\\ \n",
        "0 & 5\n",
        "\\end{pmatrix}.$"
      ]
    },
    {
      "cell_type": "markdown",
      "metadata": {
        "id": "zjlZ1VdNABXj"
      },
      "source": [
        "__Решение__ \n",
        "\n",
        "$A+B=B+A=\\begin{pmatrix}\n",
        "1+4 & -2-1\\\\ \n",
        "3+0 & 0+5\n",
        "\\end{pmatrix}=\n",
        "\\begin{pmatrix}\n",
        "5 & -3\\\\ \n",
        "3 & 5\n",
        "\\end{pmatrix}$"
      ]
    },
    {
      "cell_type": "markdown",
      "metadata": {
        "id": "8cm36d6OArFH"
      },
      "source": [
        "$AB=\\begin{pmatrix}\n",
        "1*4+-2*0 & 1*-1+-2*5\\\\ \n",
        "3*4+0*0 & 3*-1+0*5\n",
        "\\end{pmatrix}=\n",
        "\\begin{pmatrix}\n",
        "4 & -11\\\\ \n",
        "12 & -3\n",
        "\\end{pmatrix}$"
      ]
    },
    {
      "cell_type": "markdown",
      "metadata": {
        "id": "GGG7E7W1CAW_"
      },
      "source": [
        "$BA=\\begin{pmatrix}\n",
        "4*1+-1*3 & 4*-2+-1*0\\\\ \n",
        "0*1+5*3 & 0*-2+5*0\n",
        "\\end{pmatrix}=\n",
        "\\begin{pmatrix}\n",
        "1 & -8\\\\ \n",
        "15 & 0\n",
        "\\end{pmatrix}$"
      ]
    },
    {
      "cell_type": "code",
      "metadata": {
        "id": "DqJF_KGo6uOv",
        "colab": {
          "base_uri": "https://localhost:8080/"
        },
        "outputId": "346abf22-0d1e-43c4-e218-620bcdb80f0c"
      },
      "source": [
        "# проверка\n",
        "A = np.array([[1, -2], [3, 0]])\n",
        "B = np.array([[4, -1], [0, 5]])\n",
        "\n",
        "print(f'Матрица A + B\\n{A + B}\\n')\n",
        "print(f'Матрица A * B\\n{np.dot(A, B)}\\n')\n",
        "print(f'Матрица B * A\\n{np.dot(B, A)}')"
      ],
      "execution_count": 2,
      "outputs": [
        {
          "output_type": "stream",
          "text": [
            "Матрица A + B\n",
            "[[ 5 -3]\n",
            " [ 3  5]]\n",
            "\n",
            "Матрица A * B\n",
            "[[  4 -11]\n",
            " [ 12  -3]]\n",
            "\n",
            "Матрица B * A\n",
            "[[ 1 -8]\n",
            " [15  0]]\n"
          ],
          "name": "stdout"
        }
      ]
    },
    {
      "cell_type": "markdown",
      "metadata": {
        "id": "T6LphmZZGQQL"
      },
      "source": [
        "__3.__ Из закономерностей сложения и умножения матриц на число можно сделать вывод, что матрицы одного размера образуют линейное пространство. Вычислить линейную комбинацию $3A-2B+4C$ для матриц $A=\\begin{pmatrix}\n",
        "1 & 7\\\\ \n",
        "3 & -6\n",
        "\\end{pmatrix}$, $B=\\begin{pmatrix}\n",
        "0 & 5\\\\ \n",
        "2 & -1\n",
        "\\end{pmatrix}$, $C=\\begin{pmatrix}\n",
        "2 & -4\\\\ \n",
        "1 & 1\n",
        "\\end{pmatrix}.$"
      ]
    },
    {
      "cell_type": "markdown",
      "metadata": {
        "id": "LvygLFYAGlrl"
      },
      "source": [
        "__Решение__\n",
        "\n",
        "$3A-2B+4C = 3\\begin{pmatrix}\n",
        "1 & 7\\\\ \n",
        "3 & -6\n",
        "\\end{pmatrix} - 2\\begin{pmatrix}\n",
        "0 & 5\\\\ \n",
        "2 & -1\n",
        "\\end{pmatrix} + 4\\begin{pmatrix}\n",
        "2 & -4\\\\ \n",
        "1 & 1\n",
        "\\end{pmatrix} = \n",
        "\\begin{pmatrix}\n",
        "3 & 21\\\\ \n",
        "9 & -18\n",
        "\\end{pmatrix} + \\begin{pmatrix}\n",
        "0 & -10\\\\ \n",
        "-4 & 2\n",
        "\\end{pmatrix} + \\begin{pmatrix}\n",
        "8 & -16\\\\ \n",
        "4 & 4\n",
        "\\end{pmatrix} = \n",
        "\\begin{pmatrix}\n",
        "11 & -5\\\\ \n",
        "9 & -12\n",
        "\\end{pmatrix}$"
      ]
    },
    {
      "cell_type": "code",
      "metadata": {
        "id": "NWY0jAk46t79",
        "colab": {
          "base_uri": "https://localhost:8080/"
        },
        "outputId": "1ff1acbe-1fef-49ec-a894-acf7e8f25b75"
      },
      "source": [
        "# проверка\n",
        "A = np.array([[1, 7], [3, -6]])\n",
        "B = np.array([[0, 5], [2, -1]])\n",
        "C = np.array([[2, -4], [1, 1]])\n",
        "\n",
        "print(f'3A−2B+4C = \\n{3*A - 2*B + 4*C}\\n')"
      ],
      "execution_count": 3,
      "outputs": [
        {
          "output_type": "stream",
          "text": [
            "3A−2B+4C = \n",
            "[[ 11  -5]\n",
            " [  9 -12]]\n",
            "\n"
          ],
          "name": "stdout"
        }
      ]
    },
    {
      "cell_type": "markdown",
      "metadata": {
        "id": "OItEQpBxKSrE"
      },
      "source": [
        "__4.__ Дана матрица $A=\\begin{pmatrix}\n",
        "4 & 1\\\\ \n",
        "5 & -2\\\\ \n",
        "2 & 3\n",
        "\\end{pmatrix}$.\n",
        "Вычислить $AA^{T}$ и $A^{T}A$."
      ]
    },
    {
      "cell_type": "markdown",
      "metadata": {
        "id": "26N_xu9yLYyS"
      },
      "source": [
        "__Решение__\n",
        "\n",
        "$A^{T}=\\begin{pmatrix}\n",
        "4 & 5 & 2\\\\ \n",
        "1 & -2 & 3\n",
        "\\end{pmatrix}$\n"
      ]
    },
    {
      "cell_type": "markdown",
      "metadata": {
        "id": "-bUADTzPN4Vb"
      },
      "source": [
        "$AA^{T}=\\begin{pmatrix}\n",
        "4 & 1\\\\ \n",
        "5 & -2\\\\ \n",
        "2 & 3\n",
        "\\end{pmatrix} * \n",
        "\\begin{pmatrix}\n",
        "4 & 5 & 2\\\\ \n",
        "1 & -2 & 3\n",
        "\\end{pmatrix} = \n",
        "\\begin{pmatrix}\n",
        "4*4+1*1 & 4*5+1*-2 & 4*2+1*3\\\\ \n",
        "5*4+-2*1 & 5*5+-2*-2 & 5*2+-2*3\\\\\n",
        "2*4+3*1 & 2*5+3*-2 & 2*2+3*3\n",
        "\\end{pmatrix} = \n",
        "\\begin{pmatrix}\n",
        "17 & 18 & 11\\\\ \n",
        "18 & 29 & 4\\\\\n",
        "11 & 4 & 13\n",
        "\\end{pmatrix}$"
      ]
    },
    {
      "cell_type": "markdown",
      "metadata": {
        "id": "c6KFuryEN5q7"
      },
      "source": [
        "$A^{T}A=\\begin{pmatrix}\n",
        "4 & 5 & 2\\\\ \n",
        "1 & -2 & 3\n",
        "\\end{pmatrix} * \n",
        "\\begin{pmatrix}\n",
        "4 & 1\\\\ \n",
        "5 & -2\\\\ \n",
        "2 & 3\n",
        "\\end{pmatrix} = \n",
        "\\begin{pmatrix}\n",
        "4*4+5*5+2*2 & 4*1+5*-2+2*3\\\\ \n",
        "1*4+-2*5+3*2 & 1*1+-2*-2+3*3\n",
        "\\end{pmatrix} = \n",
        "\\begin{pmatrix}\n",
        "45 & 0\\\\ \n",
        "0 & 14\n",
        "\\end{pmatrix}$"
      ]
    },
    {
      "cell_type": "code",
      "metadata": {
        "id": "Qq6qtEHf6t5d",
        "colab": {
          "base_uri": "https://localhost:8080/"
        },
        "outputId": "95e2456f-0213-4228-d4b7-3898647b587b"
      },
      "source": [
        "# проверка\n",
        "A = np.array([[4, 1], [5, -2], [2, 3]])\n",
        "\n",
        "print(f'AAt = \\n{np.dot(A, A.T)}\\n')\n",
        "print(f'AtA = \\n{np.dot(A.T, A)}\\n')"
      ],
      "execution_count": 4,
      "outputs": [
        {
          "output_type": "stream",
          "text": [
            "AAt = \n",
            "[[17 18 11]\n",
            " [18 29  4]\n",
            " [11  4 13]]\n",
            "\n",
            "AtA = \n",
            "[[45  0]\n",
            " [ 0 14]]\n",
            "\n"
          ],
          "name": "stdout"
        }
      ]
    },
    {
      "cell_type": "markdown",
      "metadata": {
        "id": "OKTyZoLkP8as"
      },
      "source": [
        "### Практическое задание Часть 4"
      ]
    },
    {
      "cell_type": "markdown",
      "metadata": {
        "id": "-sM6nMnfP3hD"
      },
      "source": [
        "__1.__ Вычислить определитель:\n",
        "\n",
        "   a)\n",
        "\n",
        "$$\\begin{vmatrix}\n",
        "sinx & -cosx\\\\ \n",
        "cosx & sinx\n",
        "\\end{vmatrix};$$\n",
        "\n",
        "   б)\n",
        "    \n",
        "$$\\begin{vmatrix}\n",
        "4 & 2 & 3\\\\ \n",
        "0 & 5 & 1\\\\ \n",
        "0 & 0 & 9\n",
        "\\end{vmatrix};$$\n",
        "    \n",
        "   в)\n",
        "\n",
        "$$\\begin{vmatrix}\n",
        "1 & 2 & 3\\\\ \n",
        "4 & 5 & 6\\\\ \n",
        "7 & 8 & 9\n",
        "\\end{vmatrix}.$$"
      ]
    },
    {
      "cell_type": "markdown",
      "metadata": {
        "id": "nZVelTPHaPOG"
      },
      "source": [
        "__Решение__\n",
        "\n",
        "a)\n",
        "\n",
        "$\\begin{vmatrix}\n",
        "sinx & -cosx\\\\ \n",
        "cosx & sinx\n",
        "\\end{vmatrix} = sinx\\cdot sinx - (-cosx) \\cdot cosx = sin^2x + cos^2x = 1$"
      ]
    },
    {
      "cell_type": "markdown",
      "metadata": {
        "id": "O3OGcSczcqXG"
      },
      "source": [
        "б)\n",
        "\n",
        "$\\begin{vmatrix}\n",
        "4 & 2 & 3\\\\ \n",
        "0 & 5 & 1\\\\ \n",
        "0 & 0 & 9\n",
        "\\end{vmatrix}=\n",
        "4\\cdot\\begin{vmatrix}\n",
        "5 & 1\\\\ \n",
        "0 & 9\n",
        "\\end{vmatrix}-\n",
        "2\\cdot\\begin{vmatrix}\n",
        "0 & 1\\\\ \n",
        "0 & 9\n",
        "\\end{vmatrix}+\n",
        "3\\cdot\\begin{vmatrix}\n",
        "0 & 5\\\\ \n",
        "0 & 0\n",
        "\\end{vmatrix}=4\\cdot(5\\cdot9-1\\cdot0)-2\\cdot(0\\cdot9-1\\cdot0)+3\\cdot(0\\cdot0-5\\cdot0)=180-0+0=180.\n",
        "$"
      ]
    },
    {
      "cell_type": "code",
      "metadata": {
        "colab": {
          "base_uri": "https://localhost:8080/"
        },
        "id": "Mk4vamVFfAiQ",
        "outputId": "2f995cf5-6e07-407e-dcb6-46545cd0538c"
      },
      "source": [
        "# проверка\n",
        "a = np.array([[4, 2, 3], [0, 5, 1], [0, 0, 9]])\n",
        "print(f'Матрица:\\n{a}')\n",
        "print(f'Определитель:\\n{np.linalg.det(a):.0f}')"
      ],
      "execution_count": 5,
      "outputs": [
        {
          "output_type": "stream",
          "text": [
            "Матрица:\n",
            "[[4 2 3]\n",
            " [0 5 1]\n",
            " [0 0 9]]\n",
            "Определитель:\n",
            "180\n"
          ],
          "name": "stdout"
        }
      ]
    },
    {
      "cell_type": "markdown",
      "metadata": {
        "id": "JVjwwFvWfVD2"
      },
      "source": [
        "в)\n",
        "\n",
        "$\\begin{vmatrix}\n",
        "1 & 2 & 3\\\\ \n",
        "4 & 5 & 6\\\\ \n",
        "7 & 8 & 9\n",
        "\\end{vmatrix}=\n",
        "1\\cdot\\begin{vmatrix}\n",
        "5 & 6\\\\ \n",
        "8 & 9\n",
        "\\end{vmatrix}-\n",
        "2\\cdot\\begin{vmatrix}\n",
        "4 & 6\\\\ \n",
        "7 & 9\n",
        "\\end{vmatrix}+\n",
        "3\\cdot\\begin{vmatrix}\n",
        "4 & 5\\\\ \n",
        "7 & 8\n",
        "\\end{vmatrix}=1\\cdot(5\\cdot9-6\\cdot8)-2\\cdot(4\\cdot9-6\\cdot7)+3\\cdot(4\\cdot8-5\\cdot7)=-3+12-9=0\n",
        "$"
      ]
    },
    {
      "cell_type": "code",
      "metadata": {
        "colab": {
          "base_uri": "https://localhost:8080/"
        },
        "id": "cBF_aa5rgXQD",
        "outputId": "dc60a23e-4140-4244-e194-a84fa0cb4ef2"
      },
      "source": [
        "# проверка\n",
        "a = np.array([[1, 2, 3], [4, 5, 6], [7, 8, 9]])\n",
        "print(f'Матрица:\\n{a}')\n",
        "print(f'Определитель:\\n{np.linalg.det(a):.0f}')"
      ],
      "execution_count": 6,
      "outputs": [
        {
          "output_type": "stream",
          "text": [
            "Матрица:\n",
            "[[1 2 3]\n",
            " [4 5 6]\n",
            " [7 8 9]]\n",
            "Определитель:\n",
            "0\n"
          ],
          "name": "stdout"
        }
      ]
    },
    {
      "cell_type": "markdown",
      "metadata": {
        "id": "1SwmOCg_gllQ"
      },
      "source": [
        "__2.__ Определитель матрицы $A$ равен $4$. Найти:\n",
        "\n",
        "   а) $det(A^{2})$;\n",
        "    \n",
        "   б) $det(A^{T})$;\n",
        "    \n",
        "   в) $det(2A)$."
      ]
    },
    {
      "cell_type": "markdown",
      "metadata": {
        "id": "8s-Crunrh3sv"
      },
      "source": [
        "__Решение__ \n",
        "\n",
        "а) \n",
        "\n",
        "Так как по свойству определителей для двух квадратных матриц одинакового размера \n",
        "\n",
        "$$det(AB)=detA\\cdot detB$$\n",
        "\n",
        "$det(A)=4$\n",
        "\n",
        "то\n",
        "\n",
        "$det(A^{2}) = det(A\\cdot A) = det(A)\\cdot det(A) = 4\\cdot4 = 16$"
      ]
    },
    {
      "cell_type": "markdown",
      "metadata": {
        "id": "NF0QiZ3YjUod"
      },
      "source": [
        "б) \n",
        "\n",
        "Так как по свойству определителей определитель транспонированной матрицы равен определителю исходной\n",
        "\n",
        "$$detA^{T}=detA.$$\n",
        "\n",
        "$det(A)=4$\n",
        "\n",
        "то\n",
        "\n",
        "$det(A^{T}) = det(A) = 4$"
      ]
    },
    {
      "cell_type": "markdown",
      "metadata": {
        "id": "pzwJlUfgkVxI"
      },
      "source": [
        "в) \n",
        "\n",
        "Так как по свойству определителей умножение строки или столбца матрицы на число $\\lambda$ приведет к умножению определителя матрицы на то же число\n",
        "\n",
        "$det(A)=4$\n",
        "\n",
        "то\n",
        "\n",
        "$det(2A) = 2\\cdot det(A) = 8$"
      ]
    },
    {
      "cell_type": "markdown",
      "metadata": {
        "id": "5r_i7yMPgq7A"
      },
      "source": [
        "__3.__  Доказать, что матрица\n",
        "\n",
        "$$\\begin{pmatrix}\n",
        "-2 & 7 & -3\\\\ \n",
        "4 & -14 & 6\\\\ \n",
        "-3 & 7 & 13\n",
        "\\end{pmatrix}$$\n",
        "   \n",
        "вырожденная."
      ]
    },
    {
      "cell_type": "markdown",
      "metadata": {
        "id": "Yncj-NyQwE_R"
      },
      "source": [
        "__Решение__\n",
        "\n",
        "Матрица называется вырожденной, если ее определитель равен 0."
      ]
    },
    {
      "cell_type": "markdown",
      "metadata": {
        "id": "Zsr373MvyTi6"
      },
      "source": [
        "По свойству определителей, если две строки (столбца) матрицы линейно зависимы, то определитель этой матрицы равен нулю.\n",
        "\n",
        "В данном случае первая и вторая строка линейно зависимы, так как вторая строка равна первой строке, умноженной на $-2$"
      ]
    },
    {
      "cell_type": "code",
      "metadata": {
        "id": "N9r5io356t2j",
        "colab": {
          "base_uri": "https://localhost:8080/"
        },
        "outputId": "3ca17201-b4bf-466c-dd9f-a1d0c9375902"
      },
      "source": [
        "# проверка\n",
        "a = np.array([[-2, 7, -3], [4, -14, 6], [-3, 7, 13]])\n",
        "print(f'Матрица:\\n{a}')\n",
        "print(f'Определитель:\\n{np.linalg.det(a):.0f}')"
      ],
      "execution_count": 7,
      "outputs": [
        {
          "output_type": "stream",
          "text": [
            "Матрица:\n",
            "[[ -2   7  -3]\n",
            " [  4 -14   6]\n",
            " [ -3   7  13]]\n",
            "Определитель:\n",
            "0\n"
          ],
          "name": "stdout"
        }
      ]
    },
    {
      "cell_type": "markdown",
      "metadata": {
        "id": "AF5gf7l9wvNr"
      },
      "source": [
        "Так как определитель равен нулю, значит матрица вырожденная."
      ]
    },
    {
      "cell_type": "markdown",
      "metadata": {
        "id": "TDUbmOkSgu5A"
      },
      "source": [
        "__4.__ Найти ранг матрицы:\n",
        "\n",
        "   а) $\\begin{pmatrix}\n",
        "1 & 2 & 3\\\\ \n",
        "1 & 1 & 1\\\\ \n",
        "2 & 3 & 4\n",
        "\\end{pmatrix};$\n",
        "\n",
        "   б) $\\begin{pmatrix}\n",
        "0 & 0 & 2 & 1\\\\ \n",
        "0 & 0 & 2 & 2\\\\ \n",
        "0 & 0 & 4 & 3\\\\ \n",
        "2 & 3 & 5 & 6\n",
        "\\end{pmatrix}.$"
      ]
    },
    {
      "cell_type": "markdown",
      "metadata": {
        "id": "W_SybgZLoyIS"
      },
      "source": [
        "__Решение__\n",
        "\n",
        "а)\n",
        "\n",
        "$$\\begin{pmatrix}\n",
        "1 & 2 & 3\\\\ \n",
        "1 & 1 & 1\\\\ \n",
        "2 & 3 & 4\n",
        "\\end{pmatrix}$$\n",
        "\n",
        "Третья строка является суммой первой и второй строк, а значит, ее можно отбросить:\n",
        "\n",
        "$$\\begin{pmatrix}\n",
        "1 & 2 & 3\\\\ \n",
        "1 & 1 & 1\n",
        "\\end{pmatrix}$$\n",
        "\n",
        "И вычтем из второй строки первую:\n",
        "\n",
        "$$\\begin{pmatrix}\n",
        "1 & 2 & 3\\\\ \n",
        "0 & -1 & -2\n",
        "\\end{pmatrix}$$\n",
        "\n",
        "Таким образом, ранг матрицы равен $2$."
      ]
    },
    {
      "cell_type": "code",
      "metadata": {
        "id": "mwFtaJCW6tz8",
        "colab": {
          "base_uri": "https://localhost:8080/"
        },
        "outputId": "78e690ef-836f-406b-e1ff-a4a288e877c7"
      },
      "source": [
        "# проверка\n",
        "a = np.array([[1, 2, 3], [1, 1, 1], [2, 3, 4]])\n",
        "r = np.linalg.matrix_rank(a)\n",
        "\n",
        "print(f'Ранг матрицы: {r}')"
      ],
      "execution_count": 8,
      "outputs": [
        {
          "output_type": "stream",
          "text": [
            "Ранг матрицы: 2\n"
          ],
          "name": "stdout"
        }
      ]
    },
    {
      "cell_type": "markdown",
      "metadata": {
        "id": "WxBQxqzzqSWt"
      },
      "source": [
        "б)\n",
        "\n",
        "$$\\begin{pmatrix}\n",
        "0 & 0 & 2 & 1\\\\ \n",
        "0 & 0 & 2 & 2\\\\ \n",
        "0 & 0 & 4 & 3\\\\ \n",
        "2 & 3 & 5 & 6\n",
        "\\end{pmatrix}$$\n",
        "\n",
        "Третья строка является суммой первой и второй строк, а значит, ее можно отбросить:\n",
        "\n",
        "$$\\begin{pmatrix}\n",
        "0 & 0 & 2 & 1\\\\ \n",
        "0 & 0 & 2 & 2\\\\ \n",
        "2 & 3 & 5 & 6\n",
        "\\end{pmatrix}$$\n",
        "\n",
        "Переставим местами первую и третью строки:\n",
        "\n",
        "$$\\begin{pmatrix}\n",
        "2 & 3 & 5 & 6\\\\ \n",
        "0 & 0 & 2 & 2\\\\ \n",
        "0 & 0 & 2 & 1\n",
        "\\end{pmatrix}$$\n",
        "\n",
        "\n",
        "И вычтем из третьей строки вторую:\n",
        "\n",
        "$$\\begin{pmatrix}\n",
        "2 & 3 & 5 & 6\\\\ \n",
        "0 & 0 & 2 & 2\\\\ \n",
        "0 & 0 & 0 & -1\n",
        "\\end{pmatrix}$$\n",
        "\n",
        "Таким образом, ранг матрицы равен $3$."
      ]
    },
    {
      "cell_type": "code",
      "metadata": {
        "colab": {
          "base_uri": "https://localhost:8080/"
        },
        "id": "3pSuZRGhqLvZ",
        "outputId": "d18f21f4-0a01-4552-e5af-b4c7b5f3abd1"
      },
      "source": [
        "# проверка\n",
        "a = np.array([[0, 0, 2, 1], [0, 0, 2, 2], [0, 0, 4, 3], [2, 3, 5, 6]])\n",
        "r = np.linalg.matrix_rank(a)\n",
        "\n",
        "print(f'Ранг матрицы: {r}')"
      ],
      "execution_count": 9,
      "outputs": [
        {
          "output_type": "stream",
          "text": [
            "Ранг матрицы: 3\n"
          ],
          "name": "stdout"
        }
      ]
    }
  ]
}